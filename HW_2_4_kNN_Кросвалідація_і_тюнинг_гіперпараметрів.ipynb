{
  "nbformat": 4,
  "nbformat_minor": 0,
  "metadata": {
    "colab": {
      "provenance": []
    },
    "kernelspec": {
      "name": "python3",
      "display_name": "Python 3"
    },
    "language_info": {
      "name": "python"
    }
  },
  "cells": [
    {
      "cell_type": "markdown",
      "source": [
        "В цьому домашньому завданні ми знову працюємо з даними з нашого змагання [\"Bank Customer Churn Prediction (DLU Course)\"](https://www.kaggle.com/t/7c080c5d8ec64364a93cf4e8f880b6a0).\n",
        "\n",
        "Тут ми побудуємо рішення задачі класифікації з використанням kNearestNeighboors, знайдемо оптимальні гіперпараметри для цього методу і зробимо базові ансамблі. Це дасть змогу порівняти перформанс моделі з попередніми вивченими методами."
      ],
      "metadata": {
        "id": "fDefDHQt8LXC"
      }
    },
    {
      "cell_type": "markdown",
      "source": [
        "0. Зчитайте дані `train.csv` та зробіть препроцесинг використовуючи написаний Вами скрипт `process_bank_churn.py` так, аби в результаті отримати дані в розбитті X_train, train_targets, X_val, val_targets для експериментів.\n",
        "\n",
        "  Якщо Вам не вдалось реалізувати в завданні `2.3. Дерева прийняття рішень` скрипт `process_bank_churn.py` - можна скористатись готовим скриптом з запропонованого рішення того завдання."
      ],
      "metadata": {
        "id": "LhivzW9W8-Dz"
      }
    },
    {
      "cell_type": "code",
      "source": [
        "import numpy as np\n",
        "import pandas as pd\n",
        "import matplotlib.pyplot as plt\n",
        "\n",
        "from process_bank_churn import preprocess_data, preprocess_new_data\n",
        "from mlxtend.plotting import plot_decision_regions\n",
        "from sklearn.metrics import classification_report, roc_auc_score\n",
        "from sklearn.model_selection import GridSearchCV, RandomizedSearchCV, train_test_split\n",
        "from sklearn.tree import DecisionTreeClassifier\n",
        "from sklearn.neighbors import KNeighborsClassifier"
      ],
      "metadata": {
        "id": "Z-mntPMAH-rv"
      },
      "execution_count": 38,
      "outputs": []
    },
    {
      "cell_type": "code",
      "source": [
        "from google.colab import drive\n",
        "drive.mount('/content/drive')"
      ],
      "metadata": {
        "colab": {
          "base_uri": "https://localhost:8080/"
        },
        "id": "NKKGExoAyt43",
        "outputId": "0763b8e3-2a4c-407d-db3d-6ffa75a48d10"
      },
      "execution_count": 5,
      "outputs": [
        {
          "output_type": "stream",
          "name": "stdout",
          "text": [
            "Mounted at /content/drive\n"
          ]
        }
      ]
    },
    {
      "cell_type": "code",
      "source": [
        "df = pd.read_csv('drive/MyDrive/Machine Learning Course/datasources/bank-customer-churn-prediction-dlu/train.csv')"
      ],
      "metadata": {
        "id": "9hfMHbiNyvtD"
      },
      "execution_count": 6,
      "outputs": []
    },
    {
      "cell_type": "code",
      "source": [
        "X_train, train_targets, X_val, val_targets, input_cols, scaler, encoder = preprocess_data(df)"
      ],
      "metadata": {
        "id": "r-dJowBVzeWd"
      },
      "execution_count": 42,
      "outputs": []
    },
    {
      "cell_type": "markdown",
      "source": [
        "1. Навчіть на цих даних класифікатор kNN з параметрами за замовченням і виміряйте точність з допомогою AUROC на тренувальному та валідаційному наборах. Зробіть заключення про отриману модель: вона хороша/погана, чи є high bias/high variance?"
      ],
      "metadata": {
        "id": "_LxWkv4o-wMe"
      }
    },
    {
      "cell_type": "code",
      "source": [
        "knn = KNeighborsClassifier().fit(X_train, train_targets)"
      ],
      "metadata": {
        "id": "1TH7H_Z9IAHD"
      },
      "execution_count": 9,
      "outputs": []
    },
    {
      "cell_type": "code",
      "source": [
        "train_preds = knn.predict_proba(X_train)[:, 1]\n",
        "val_preds = knn.predict_proba(X_val)[:, 1]\n",
        "\n",
        "auc_train = roc_auc_score(train_targets, train_preds)\n",
        "auc_val = roc_auc_score(val_targets, val_preds)\n",
        "\n",
        "print(auc_train, auc_val)"
      ],
      "metadata": {
        "colab": {
          "base_uri": "https://localhost:8080/"
        },
        "id": "Z1j4sTADGgmc",
        "outputId": "4514d463-faf5-40d4-e20b-ded76464764f"
      },
      "execution_count": 14,
      "outputs": [
        {
          "output_type": "stream",
          "name": "stdout",
          "text": [
            "0.955875881017124 0.8524864531174978\n"
          ]
        }
      ]
    },
    {
      "cell_type": "markdown",
      "source": [
        "Загалом, можу сказати, що модель не дуже хороша: немає high bias, але наявне high variance, проте на валідаційних даних AUC менший, отже, модель більше під тренувальні дані налаштовується (є перенавчання)."
      ],
      "metadata": {
        "id": "mPKt_nz4HRqo"
      }
    },
    {
      "cell_type": "markdown",
      "source": [
        "2. Використовуючи `GridSearchCV` знайдіть оптимальне значення параметра `n_neighbors` для класифікатора `kNN`. Псотавте крос валідацію на 5 фолдів.\n",
        "\n",
        "  Після успішного завершення пошуку оптимального гіперпараметра\n",
        "    - виведіть найкраще значення параметра\n",
        "    - збережіть в окрему змінну `knn_best` найкращу модель, знайдену з `GridSearchCV`\n",
        "    - оцініть якість передбачень  `knn_best` на тренувальній і валідаційній вибірці з допомогою AUROC.\n",
        "    - зробіть висновок про якість моделі. Чи стала вона краще порівняно з попереднім пукнтом (2) цього завдання? Чи є вона краще за дерево прийняття рішень з попереднього ДЗ?"
      ],
      "metadata": {
        "id": "U4hm5qYs_f7x"
      }
    },
    {
      "cell_type": "code",
      "source": [
        "knn_gs = KNeighborsClassifier()\n",
        "knn_params = {'n_neighbors': np.arange(1, 25)}\n",
        "gs = GridSearchCV(knn_gs, knn_params, cv=5, scoring='roc_auc')\n",
        "gs.fit(X_train, train_targets)"
      ],
      "metadata": {
        "id": "a50AtDZ9IDNx",
        "colab": {
          "base_uri": "https://localhost:8080/",
          "height": 172
        },
        "outputId": "d91bb252-f6a1-4b10-a957-76106b77e237"
      },
      "execution_count": 16,
      "outputs": [
        {
          "output_type": "execute_result",
          "data": {
            "text/plain": [
              "GridSearchCV(cv=5, estimator=KNeighborsClassifier(),\n",
              "             param_grid={'n_neighbors': array([ 1,  2,  3,  4,  5,  6,  7,  8,  9, 10, 11, 12, 13, 14, 15, 16, 17,\n",
              "       18, 19, 20, 21, 22, 23, 24])},\n",
              "             scoring='roc_auc')"
            ],
            "text/html": [
              "<style>#sk-container-id-2 {\n",
              "  /* Definition of color scheme common for light and dark mode */\n",
              "  --sklearn-color-text: #000;\n",
              "  --sklearn-color-text-muted: #666;\n",
              "  --sklearn-color-line: gray;\n",
              "  /* Definition of color scheme for unfitted estimators */\n",
              "  --sklearn-color-unfitted-level-0: #fff5e6;\n",
              "  --sklearn-color-unfitted-level-1: #f6e4d2;\n",
              "  --sklearn-color-unfitted-level-2: #ffe0b3;\n",
              "  --sklearn-color-unfitted-level-3: chocolate;\n",
              "  /* Definition of color scheme for fitted estimators */\n",
              "  --sklearn-color-fitted-level-0: #f0f8ff;\n",
              "  --sklearn-color-fitted-level-1: #d4ebff;\n",
              "  --sklearn-color-fitted-level-2: #b3dbfd;\n",
              "  --sklearn-color-fitted-level-3: cornflowerblue;\n",
              "\n",
              "  /* Specific color for light theme */\n",
              "  --sklearn-color-text-on-default-background: var(--sg-text-color, var(--theme-code-foreground, var(--jp-content-font-color1, black)));\n",
              "  --sklearn-color-background: var(--sg-background-color, var(--theme-background, var(--jp-layout-color0, white)));\n",
              "  --sklearn-color-border-box: var(--sg-text-color, var(--theme-code-foreground, var(--jp-content-font-color1, black)));\n",
              "  --sklearn-color-icon: #696969;\n",
              "\n",
              "  @media (prefers-color-scheme: dark) {\n",
              "    /* Redefinition of color scheme for dark theme */\n",
              "    --sklearn-color-text-on-default-background: var(--sg-text-color, var(--theme-code-foreground, var(--jp-content-font-color1, white)));\n",
              "    --sklearn-color-background: var(--sg-background-color, var(--theme-background, var(--jp-layout-color0, #111)));\n",
              "    --sklearn-color-border-box: var(--sg-text-color, var(--theme-code-foreground, var(--jp-content-font-color1, white)));\n",
              "    --sklearn-color-icon: #878787;\n",
              "  }\n",
              "}\n",
              "\n",
              "#sk-container-id-2 {\n",
              "  color: var(--sklearn-color-text);\n",
              "}\n",
              "\n",
              "#sk-container-id-2 pre {\n",
              "  padding: 0;\n",
              "}\n",
              "\n",
              "#sk-container-id-2 input.sk-hidden--visually {\n",
              "  border: 0;\n",
              "  clip: rect(1px 1px 1px 1px);\n",
              "  clip: rect(1px, 1px, 1px, 1px);\n",
              "  height: 1px;\n",
              "  margin: -1px;\n",
              "  overflow: hidden;\n",
              "  padding: 0;\n",
              "  position: absolute;\n",
              "  width: 1px;\n",
              "}\n",
              "\n",
              "#sk-container-id-2 div.sk-dashed-wrapped {\n",
              "  border: 1px dashed var(--sklearn-color-line);\n",
              "  margin: 0 0.4em 0.5em 0.4em;\n",
              "  box-sizing: border-box;\n",
              "  padding-bottom: 0.4em;\n",
              "  background-color: var(--sklearn-color-background);\n",
              "}\n",
              "\n",
              "#sk-container-id-2 div.sk-container {\n",
              "  /* jupyter's `normalize.less` sets `[hidden] { display: none; }`\n",
              "     but bootstrap.min.css set `[hidden] { display: none !important; }`\n",
              "     so we also need the `!important` here to be able to override the\n",
              "     default hidden behavior on the sphinx rendered scikit-learn.org.\n",
              "     See: https://github.com/scikit-learn/scikit-learn/issues/21755 */\n",
              "  display: inline-block !important;\n",
              "  position: relative;\n",
              "}\n",
              "\n",
              "#sk-container-id-2 div.sk-text-repr-fallback {\n",
              "  display: none;\n",
              "}\n",
              "\n",
              "div.sk-parallel-item,\n",
              "div.sk-serial,\n",
              "div.sk-item {\n",
              "  /* draw centered vertical line to link estimators */\n",
              "  background-image: linear-gradient(var(--sklearn-color-text-on-default-background), var(--sklearn-color-text-on-default-background));\n",
              "  background-size: 2px 100%;\n",
              "  background-repeat: no-repeat;\n",
              "  background-position: center center;\n",
              "}\n",
              "\n",
              "/* Parallel-specific style estimator block */\n",
              "\n",
              "#sk-container-id-2 div.sk-parallel-item::after {\n",
              "  content: \"\";\n",
              "  width: 100%;\n",
              "  border-bottom: 2px solid var(--sklearn-color-text-on-default-background);\n",
              "  flex-grow: 1;\n",
              "}\n",
              "\n",
              "#sk-container-id-2 div.sk-parallel {\n",
              "  display: flex;\n",
              "  align-items: stretch;\n",
              "  justify-content: center;\n",
              "  background-color: var(--sklearn-color-background);\n",
              "  position: relative;\n",
              "}\n",
              "\n",
              "#sk-container-id-2 div.sk-parallel-item {\n",
              "  display: flex;\n",
              "  flex-direction: column;\n",
              "}\n",
              "\n",
              "#sk-container-id-2 div.sk-parallel-item:first-child::after {\n",
              "  align-self: flex-end;\n",
              "  width: 50%;\n",
              "}\n",
              "\n",
              "#sk-container-id-2 div.sk-parallel-item:last-child::after {\n",
              "  align-self: flex-start;\n",
              "  width: 50%;\n",
              "}\n",
              "\n",
              "#sk-container-id-2 div.sk-parallel-item:only-child::after {\n",
              "  width: 0;\n",
              "}\n",
              "\n",
              "/* Serial-specific style estimator block */\n",
              "\n",
              "#sk-container-id-2 div.sk-serial {\n",
              "  display: flex;\n",
              "  flex-direction: column;\n",
              "  align-items: center;\n",
              "  background-color: var(--sklearn-color-background);\n",
              "  padding-right: 1em;\n",
              "  padding-left: 1em;\n",
              "}\n",
              "\n",
              "\n",
              "/* Toggleable style: style used for estimator/Pipeline/ColumnTransformer box that is\n",
              "clickable and can be expanded/collapsed.\n",
              "- Pipeline and ColumnTransformer use this feature and define the default style\n",
              "- Estimators will overwrite some part of the style using the `sk-estimator` class\n",
              "*/\n",
              "\n",
              "/* Pipeline and ColumnTransformer style (default) */\n",
              "\n",
              "#sk-container-id-2 div.sk-toggleable {\n",
              "  /* Default theme specific background. It is overwritten whether we have a\n",
              "  specific estimator or a Pipeline/ColumnTransformer */\n",
              "  background-color: var(--sklearn-color-background);\n",
              "}\n",
              "\n",
              "/* Toggleable label */\n",
              "#sk-container-id-2 label.sk-toggleable__label {\n",
              "  cursor: pointer;\n",
              "  display: flex;\n",
              "  width: 100%;\n",
              "  margin-bottom: 0;\n",
              "  padding: 0.5em;\n",
              "  box-sizing: border-box;\n",
              "  text-align: center;\n",
              "  align-items: start;\n",
              "  justify-content: space-between;\n",
              "  gap: 0.5em;\n",
              "}\n",
              "\n",
              "#sk-container-id-2 label.sk-toggleable__label .caption {\n",
              "  font-size: 0.6rem;\n",
              "  font-weight: lighter;\n",
              "  color: var(--sklearn-color-text-muted);\n",
              "}\n",
              "\n",
              "#sk-container-id-2 label.sk-toggleable__label-arrow:before {\n",
              "  /* Arrow on the left of the label */\n",
              "  content: \"▸\";\n",
              "  float: left;\n",
              "  margin-right: 0.25em;\n",
              "  color: var(--sklearn-color-icon);\n",
              "}\n",
              "\n",
              "#sk-container-id-2 label.sk-toggleable__label-arrow:hover:before {\n",
              "  color: var(--sklearn-color-text);\n",
              "}\n",
              "\n",
              "/* Toggleable content - dropdown */\n",
              "\n",
              "#sk-container-id-2 div.sk-toggleable__content {\n",
              "  max-height: 0;\n",
              "  max-width: 0;\n",
              "  overflow: hidden;\n",
              "  text-align: left;\n",
              "  /* unfitted */\n",
              "  background-color: var(--sklearn-color-unfitted-level-0);\n",
              "}\n",
              "\n",
              "#sk-container-id-2 div.sk-toggleable__content.fitted {\n",
              "  /* fitted */\n",
              "  background-color: var(--sklearn-color-fitted-level-0);\n",
              "}\n",
              "\n",
              "#sk-container-id-2 div.sk-toggleable__content pre {\n",
              "  margin: 0.2em;\n",
              "  border-radius: 0.25em;\n",
              "  color: var(--sklearn-color-text);\n",
              "  /* unfitted */\n",
              "  background-color: var(--sklearn-color-unfitted-level-0);\n",
              "}\n",
              "\n",
              "#sk-container-id-2 div.sk-toggleable__content.fitted pre {\n",
              "  /* unfitted */\n",
              "  background-color: var(--sklearn-color-fitted-level-0);\n",
              "}\n",
              "\n",
              "#sk-container-id-2 input.sk-toggleable__control:checked~div.sk-toggleable__content {\n",
              "  /* Expand drop-down */\n",
              "  max-height: 200px;\n",
              "  max-width: 100%;\n",
              "  overflow: auto;\n",
              "}\n",
              "\n",
              "#sk-container-id-2 input.sk-toggleable__control:checked~label.sk-toggleable__label-arrow:before {\n",
              "  content: \"▾\";\n",
              "}\n",
              "\n",
              "/* Pipeline/ColumnTransformer-specific style */\n",
              "\n",
              "#sk-container-id-2 div.sk-label input.sk-toggleable__control:checked~label.sk-toggleable__label {\n",
              "  color: var(--sklearn-color-text);\n",
              "  background-color: var(--sklearn-color-unfitted-level-2);\n",
              "}\n",
              "\n",
              "#sk-container-id-2 div.sk-label.fitted input.sk-toggleable__control:checked~label.sk-toggleable__label {\n",
              "  background-color: var(--sklearn-color-fitted-level-2);\n",
              "}\n",
              "\n",
              "/* Estimator-specific style */\n",
              "\n",
              "/* Colorize estimator box */\n",
              "#sk-container-id-2 div.sk-estimator input.sk-toggleable__control:checked~label.sk-toggleable__label {\n",
              "  /* unfitted */\n",
              "  background-color: var(--sklearn-color-unfitted-level-2);\n",
              "}\n",
              "\n",
              "#sk-container-id-2 div.sk-estimator.fitted input.sk-toggleable__control:checked~label.sk-toggleable__label {\n",
              "  /* fitted */\n",
              "  background-color: var(--sklearn-color-fitted-level-2);\n",
              "}\n",
              "\n",
              "#sk-container-id-2 div.sk-label label.sk-toggleable__label,\n",
              "#sk-container-id-2 div.sk-label label {\n",
              "  /* The background is the default theme color */\n",
              "  color: var(--sklearn-color-text-on-default-background);\n",
              "}\n",
              "\n",
              "/* On hover, darken the color of the background */\n",
              "#sk-container-id-2 div.sk-label:hover label.sk-toggleable__label {\n",
              "  color: var(--sklearn-color-text);\n",
              "  background-color: var(--sklearn-color-unfitted-level-2);\n",
              "}\n",
              "\n",
              "/* Label box, darken color on hover, fitted */\n",
              "#sk-container-id-2 div.sk-label.fitted:hover label.sk-toggleable__label.fitted {\n",
              "  color: var(--sklearn-color-text);\n",
              "  background-color: var(--sklearn-color-fitted-level-2);\n",
              "}\n",
              "\n",
              "/* Estimator label */\n",
              "\n",
              "#sk-container-id-2 div.sk-label label {\n",
              "  font-family: monospace;\n",
              "  font-weight: bold;\n",
              "  display: inline-block;\n",
              "  line-height: 1.2em;\n",
              "}\n",
              "\n",
              "#sk-container-id-2 div.sk-label-container {\n",
              "  text-align: center;\n",
              "}\n",
              "\n",
              "/* Estimator-specific */\n",
              "#sk-container-id-2 div.sk-estimator {\n",
              "  font-family: monospace;\n",
              "  border: 1px dotted var(--sklearn-color-border-box);\n",
              "  border-radius: 0.25em;\n",
              "  box-sizing: border-box;\n",
              "  margin-bottom: 0.5em;\n",
              "  /* unfitted */\n",
              "  background-color: var(--sklearn-color-unfitted-level-0);\n",
              "}\n",
              "\n",
              "#sk-container-id-2 div.sk-estimator.fitted {\n",
              "  /* fitted */\n",
              "  background-color: var(--sklearn-color-fitted-level-0);\n",
              "}\n",
              "\n",
              "/* on hover */\n",
              "#sk-container-id-2 div.sk-estimator:hover {\n",
              "  /* unfitted */\n",
              "  background-color: var(--sklearn-color-unfitted-level-2);\n",
              "}\n",
              "\n",
              "#sk-container-id-2 div.sk-estimator.fitted:hover {\n",
              "  /* fitted */\n",
              "  background-color: var(--sklearn-color-fitted-level-2);\n",
              "}\n",
              "\n",
              "/* Specification for estimator info (e.g. \"i\" and \"?\") */\n",
              "\n",
              "/* Common style for \"i\" and \"?\" */\n",
              "\n",
              ".sk-estimator-doc-link,\n",
              "a:link.sk-estimator-doc-link,\n",
              "a:visited.sk-estimator-doc-link {\n",
              "  float: right;\n",
              "  font-size: smaller;\n",
              "  line-height: 1em;\n",
              "  font-family: monospace;\n",
              "  background-color: var(--sklearn-color-background);\n",
              "  border-radius: 1em;\n",
              "  height: 1em;\n",
              "  width: 1em;\n",
              "  text-decoration: none !important;\n",
              "  margin-left: 0.5em;\n",
              "  text-align: center;\n",
              "  /* unfitted */\n",
              "  border: var(--sklearn-color-unfitted-level-1) 1pt solid;\n",
              "  color: var(--sklearn-color-unfitted-level-1);\n",
              "}\n",
              "\n",
              ".sk-estimator-doc-link.fitted,\n",
              "a:link.sk-estimator-doc-link.fitted,\n",
              "a:visited.sk-estimator-doc-link.fitted {\n",
              "  /* fitted */\n",
              "  border: var(--sklearn-color-fitted-level-1) 1pt solid;\n",
              "  color: var(--sklearn-color-fitted-level-1);\n",
              "}\n",
              "\n",
              "/* On hover */\n",
              "div.sk-estimator:hover .sk-estimator-doc-link:hover,\n",
              ".sk-estimator-doc-link:hover,\n",
              "div.sk-label-container:hover .sk-estimator-doc-link:hover,\n",
              ".sk-estimator-doc-link:hover {\n",
              "  /* unfitted */\n",
              "  background-color: var(--sklearn-color-unfitted-level-3);\n",
              "  color: var(--sklearn-color-background);\n",
              "  text-decoration: none;\n",
              "}\n",
              "\n",
              "div.sk-estimator.fitted:hover .sk-estimator-doc-link.fitted:hover,\n",
              ".sk-estimator-doc-link.fitted:hover,\n",
              "div.sk-label-container:hover .sk-estimator-doc-link.fitted:hover,\n",
              ".sk-estimator-doc-link.fitted:hover {\n",
              "  /* fitted */\n",
              "  background-color: var(--sklearn-color-fitted-level-3);\n",
              "  color: var(--sklearn-color-background);\n",
              "  text-decoration: none;\n",
              "}\n",
              "\n",
              "/* Span, style for the box shown on hovering the info icon */\n",
              ".sk-estimator-doc-link span {\n",
              "  display: none;\n",
              "  z-index: 9999;\n",
              "  position: relative;\n",
              "  font-weight: normal;\n",
              "  right: .2ex;\n",
              "  padding: .5ex;\n",
              "  margin: .5ex;\n",
              "  width: min-content;\n",
              "  min-width: 20ex;\n",
              "  max-width: 50ex;\n",
              "  color: var(--sklearn-color-text);\n",
              "  box-shadow: 2pt 2pt 4pt #999;\n",
              "  /* unfitted */\n",
              "  background: var(--sklearn-color-unfitted-level-0);\n",
              "  border: .5pt solid var(--sklearn-color-unfitted-level-3);\n",
              "}\n",
              "\n",
              ".sk-estimator-doc-link.fitted span {\n",
              "  /* fitted */\n",
              "  background: var(--sklearn-color-fitted-level-0);\n",
              "  border: var(--sklearn-color-fitted-level-3);\n",
              "}\n",
              "\n",
              ".sk-estimator-doc-link:hover span {\n",
              "  display: block;\n",
              "}\n",
              "\n",
              "/* \"?\"-specific style due to the `<a>` HTML tag */\n",
              "\n",
              "#sk-container-id-2 a.estimator_doc_link {\n",
              "  float: right;\n",
              "  font-size: 1rem;\n",
              "  line-height: 1em;\n",
              "  font-family: monospace;\n",
              "  background-color: var(--sklearn-color-background);\n",
              "  border-radius: 1rem;\n",
              "  height: 1rem;\n",
              "  width: 1rem;\n",
              "  text-decoration: none;\n",
              "  /* unfitted */\n",
              "  color: var(--sklearn-color-unfitted-level-1);\n",
              "  border: var(--sklearn-color-unfitted-level-1) 1pt solid;\n",
              "}\n",
              "\n",
              "#sk-container-id-2 a.estimator_doc_link.fitted {\n",
              "  /* fitted */\n",
              "  border: var(--sklearn-color-fitted-level-1) 1pt solid;\n",
              "  color: var(--sklearn-color-fitted-level-1);\n",
              "}\n",
              "\n",
              "/* On hover */\n",
              "#sk-container-id-2 a.estimator_doc_link:hover {\n",
              "  /* unfitted */\n",
              "  background-color: var(--sklearn-color-unfitted-level-3);\n",
              "  color: var(--sklearn-color-background);\n",
              "  text-decoration: none;\n",
              "}\n",
              "\n",
              "#sk-container-id-2 a.estimator_doc_link.fitted:hover {\n",
              "  /* fitted */\n",
              "  background-color: var(--sklearn-color-fitted-level-3);\n",
              "}\n",
              "</style><div id=\"sk-container-id-2\" class=\"sk-top-container\"><div class=\"sk-text-repr-fallback\"><pre>GridSearchCV(cv=5, estimator=KNeighborsClassifier(),\n",
              "             param_grid={&#x27;n_neighbors&#x27;: array([ 1,  2,  3,  4,  5,  6,  7,  8,  9, 10, 11, 12, 13, 14, 15, 16, 17,\n",
              "       18, 19, 20, 21, 22, 23, 24])},\n",
              "             scoring=&#x27;roc_auc&#x27;)</pre><b>In a Jupyter environment, please rerun this cell to show the HTML representation or trust the notebook. <br />On GitHub, the HTML representation is unable to render, please try loading this page with nbviewer.org.</b></div><div class=\"sk-container\" hidden><div class=\"sk-item sk-dashed-wrapped\"><div class=\"sk-label-container\"><div class=\"sk-label fitted sk-toggleable\"><input class=\"sk-toggleable__control sk-hidden--visually\" id=\"sk-estimator-id-4\" type=\"checkbox\" ><label for=\"sk-estimator-id-4\" class=\"sk-toggleable__label fitted sk-toggleable__label-arrow\"><div><div>GridSearchCV</div></div><div><a class=\"sk-estimator-doc-link fitted\" rel=\"noreferrer\" target=\"_blank\" href=\"https://scikit-learn.org/1.6/modules/generated/sklearn.model_selection.GridSearchCV.html\">?<span>Documentation for GridSearchCV</span></a><span class=\"sk-estimator-doc-link fitted\">i<span>Fitted</span></span></div></label><div class=\"sk-toggleable__content fitted\"><pre>GridSearchCV(cv=5, estimator=KNeighborsClassifier(),\n",
              "             param_grid={&#x27;n_neighbors&#x27;: array([ 1,  2,  3,  4,  5,  6,  7,  8,  9, 10, 11, 12, 13, 14, 15, 16, 17,\n",
              "       18, 19, 20, 21, 22, 23, 24])},\n",
              "             scoring=&#x27;roc_auc&#x27;)</pre></div> </div></div><div class=\"sk-parallel\"><div class=\"sk-parallel-item\"><div class=\"sk-item\"><div class=\"sk-label-container\"><div class=\"sk-label fitted sk-toggleable\"><input class=\"sk-toggleable__control sk-hidden--visually\" id=\"sk-estimator-id-5\" type=\"checkbox\" ><label for=\"sk-estimator-id-5\" class=\"sk-toggleable__label fitted sk-toggleable__label-arrow\"><div><div>best_estimator_: KNeighborsClassifier</div></div></label><div class=\"sk-toggleable__content fitted\"><pre>KNeighborsClassifier(n_neighbors=np.int64(19))</pre></div> </div></div><div class=\"sk-serial\"><div class=\"sk-item\"><div class=\"sk-estimator fitted sk-toggleable\"><input class=\"sk-toggleable__control sk-hidden--visually\" id=\"sk-estimator-id-6\" type=\"checkbox\" ><label for=\"sk-estimator-id-6\" class=\"sk-toggleable__label fitted sk-toggleable__label-arrow\"><div><div>KNeighborsClassifier</div></div><div><a class=\"sk-estimator-doc-link fitted\" rel=\"noreferrer\" target=\"_blank\" href=\"https://scikit-learn.org/1.6/modules/generated/sklearn.neighbors.KNeighborsClassifier.html\">?<span>Documentation for KNeighborsClassifier</span></a></div></label><div class=\"sk-toggleable__content fitted\"><pre>KNeighborsClassifier(n_neighbors=np.int64(19))</pre></div> </div></div></div></div></div></div></div></div></div>"
            ]
          },
          "metadata": {},
          "execution_count": 16
        }
      ]
    },
    {
      "cell_type": "code",
      "source": [
        "knn_best = gs.best_estimator_\n",
        "\n",
        "train_preds_best = knn_best.predict_proba(X_train)[:, 1]\n",
        "val_preds_best = knn_best.predict_proba(X_val)[:, 1]\n",
        "\n",
        "auc_train_best = roc_auc_score(train_targets, train_preds_best)\n",
        "auc_val_best = roc_auc_score(val_targets, val_preds_best)\n",
        "\n",
        "print(auc_train_best, auc_val_best)"
      ],
      "metadata": {
        "colab": {
          "base_uri": "https://localhost:8080/"
        },
        "id": "lR8Gu2ftJr0R",
        "outputId": "c0542f17-f81c-4a73-b98b-71e08dbefb06"
      },
      "execution_count": 17,
      "outputs": [
        {
          "output_type": "stream",
          "name": "stdout",
          "text": [
            "0.9227154307191971 0.8908176143768434\n"
          ]
        }
      ]
    },
    {
      "cell_type": "markdown",
      "source": [
        "Поточна модель краща за попередню (вже немає перенавчання), але при цьому трохи гірша, ніж дерева прийняття рішень."
      ],
      "metadata": {
        "id": "RbiaGljpKaJw"
      }
    },
    {
      "cell_type": "markdown",
      "source": [
        "3. Виконайте пошук оптимальних гіперпараметрів для `DecisionTreeClassifier` з `GridSearchCV` за сіткою параметрів\n",
        "  - `max_depth` від 1 до 20 з кроком 2\n",
        "  - `max_leaf_nodes` від 2 до 10 з кроком 1\n",
        "\n",
        "  Обовʼязково при цьому ініціюйте модель з фіксацією `random_state`.\n",
        "\n",
        "  Поставте кросвалідацію на 3 фолди, `scoring='roc_auc'`, та виміряйте, скільки часу потребує пошук оптимальних гіперпараметрів.\n",
        "\n",
        "  Після успішного завершення пошуку оптимальних гіперпараметрів\n",
        "    - виведіть найкращі значення параметра\n",
        "    - збережіть в окрему змінну `dt_best` найкращу модель, знайдену з `GridSearchCV`\n",
        "    - оцініть якість передбачень  `dt_best` на тренувальній і валідаційній вибірці з допомогою AUROC.\n",
        "    - зробіть висновок про якість моделі. Чи ця модель краща за ту, що ви знайшли вручну?"
      ],
      "metadata": {
        "id": "Vg77SVWrBBmU"
      }
    },
    {
      "cell_type": "code",
      "source": [
        "model_tree = DecisionTreeClassifier(random_state=42)"
      ],
      "metadata": {
        "id": "SjOnIttKP76B"
      },
      "execution_count": 20,
      "outputs": []
    },
    {
      "cell_type": "code",
      "source": [
        "%%time\n",
        "tree_gs = GridSearchCV(\n",
        "    model_tree,\n",
        "    {\n",
        "        'max_depth': np.arange(1, 20, 2),\n",
        "        'max_leaf_nodes': np.arange(2, 10)\n",
        "    },\n",
        "    scoring='roc_auc',\n",
        "    cv=3\n",
        ").fit(X_train, train_targets)"
      ],
      "metadata": {
        "id": "RVg6jX-7IEwl",
        "colab": {
          "base_uri": "https://localhost:8080/"
        },
        "outputId": "395ad8ab-47de-4831-9837-98ebe2c7cd8c"
      },
      "execution_count": 26,
      "outputs": [
        {
          "output_type": "stream",
          "name": "stdout",
          "text": [
            "CPU times: user 5.61 s, sys: 2.85 ms, total: 5.61 s\n",
            "Wall time: 5.62 s\n"
          ]
        }
      ]
    },
    {
      "cell_type": "code",
      "source": [
        "tree_gs.best_params_"
      ],
      "metadata": {
        "colab": {
          "base_uri": "https://localhost:8080/"
        },
        "id": "OWYY5FbPQRT-",
        "outputId": "82cdc48e-4993-4ca4-b6e0-bcbe4b656121"
      },
      "execution_count": 27,
      "outputs": [
        {
          "output_type": "execute_result",
          "data": {
            "text/plain": [
              "{'max_depth': np.int64(5), 'max_leaf_nodes': np.int64(9)}"
            ]
          },
          "metadata": {},
          "execution_count": 27
        }
      ]
    },
    {
      "cell_type": "code",
      "source": [
        "dt_best = tree_gs.best_estimator_\n",
        "\n",
        "train_preds_dt = dt_best.predict_proba(X_train)[:, 1]\n",
        "val_preds_dt = dt_best.predict_proba(X_val)[:, 1]\n",
        "\n",
        "auc_train_dt = roc_auc_score(train_targets, train_preds_dt)\n",
        "auc_val_dt = roc_auc_score(val_targets, val_preds_dt)\n",
        "\n",
        "print(auc_train_dt, auc_val_dt)"
      ],
      "metadata": {
        "colab": {
          "base_uri": "https://localhost:8080/"
        },
        "id": "rmkZSpbsQ0N_",
        "outputId": "10e20e01-e998-4237-dd00-b6028b58645c"
      },
      "execution_count": 29,
      "outputs": [
        {
          "output_type": "stream",
          "name": "stdout",
          "text": [
            "0.9001138615074584 0.898395980519926\n"
          ]
        }
      ]
    },
    {
      "cell_type": "markdown",
      "source": [
        "Якість моделі така сама, як і в попередньому пункті (найкраща knn модель).\n",
        "Ця модель незначно гірша за ту, що я знайшла вручну (оскільки max_leaf_nodes був більший за 10)."
      ],
      "metadata": {
        "id": "-8KjmpfsRPAI"
      }
    },
    {
      "cell_type": "markdown",
      "source": [
        "4. Виконайте пошук оптимальних гіперпараметрів для `DecisionTreeClassifier` з `RandomizedSearchCV` за заданою сіткою параметрів і кількість ітерацій 40.\n",
        "\n",
        "  Поставте кросвалідацію на 3 фолди, `scoring='roc_auc'`, зафіксуйте `random_seed` процедури крос валідації та виміряйте, скільки часу потребує пошук оптимальних гіперпараметрів.\n",
        "\n",
        "  Після успішного завершення пошуку оптимальних гіперпараметрів\n",
        "    - виведіть найкращі значення параметра\n",
        "    - збережіть в окрему змінну `dt_random_search_best` найкращу модель, знайдену з `RandomizedSearchCV`\n",
        "    - оцініть якість передбачень  `dt_random_search_best` на тренувальній і валідаційній вибірці з допомогою AUROC.\n",
        "    - зробіть висновок про якість моделі. Чи ця модель краща за ту, що ви знайшли з `GridSearch`?\n",
        "    - проаналізуйте параметри `dt_random_search_best` і порівняйте з параметрами `dt_best` - яку бачите відмінність? Ця вправа потрібна аби зрозуміти, як різні налаштування `DecisionTreeClassifier` впливають на якість моделі."
      ],
      "metadata": {
        "id": "nCnkGD_sEW1i"
      }
    },
    {
      "cell_type": "code",
      "source": [
        "params_dt = {\n",
        "    'criterion': ['gini', 'entropy'],\n",
        "    'splitter': ['best', 'random'],\n",
        "    'max_depth': np.arange(1, 20),\n",
        "    'max_leaf_nodes': np.arange(2, 20),\n",
        "    'min_samples_split': [2, 5, 10, 20],\n",
        "    'min_samples_leaf': [1, 2, 4, 8],\n",
        "    'max_features': [None, 'sqrt', 'log2']\n",
        "}"
      ],
      "metadata": {
        "id": "665uQ3NdIG0s"
      },
      "execution_count": 30,
      "outputs": []
    },
    {
      "cell_type": "code",
      "source": [
        "model_tree = DecisionTreeClassifier(random_state=42)"
      ],
      "metadata": {
        "id": "bmkoyz2uSToN"
      },
      "execution_count": 32,
      "outputs": []
    },
    {
      "cell_type": "code",
      "source": [
        "%%time\n",
        "tree_rs = RandomizedSearchCV(\n",
        "    model_tree,\n",
        "    params_dt,\n",
        "    n_iter=40,\n",
        "    scoring='roc_auc',\n",
        "    cv=3,\n",
        "    random_state=0\n",
        ").fit(X_train, train_targets)"
      ],
      "metadata": {
        "id": "MyHVD-R0IXqv",
        "colab": {
          "base_uri": "https://localhost:8080/"
        },
        "outputId": "3b882e62-6f53-4b48-f2a5-38460c4a9fdb"
      },
      "execution_count": 35,
      "outputs": [
        {
          "output_type": "stream",
          "name": "stdout",
          "text": [
            "CPU times: user 1.74 s, sys: 3.89 ms, total: 1.75 s\n",
            "Wall time: 1.83 s\n"
          ]
        }
      ]
    },
    {
      "cell_type": "code",
      "source": [
        "tree_rs.best_params_"
      ],
      "metadata": {
        "colab": {
          "base_uri": "https://localhost:8080/"
        },
        "id": "gYXMwb_dT94j",
        "outputId": "2e12ba23-b878-4132-bb27-6c9d7f639a7f"
      },
      "execution_count": 36,
      "outputs": [
        {
          "output_type": "execute_result",
          "data": {
            "text/plain": [
              "{'splitter': 'best',\n",
              " 'min_samples_split': 10,\n",
              " 'min_samples_leaf': 1,\n",
              " 'max_leaf_nodes': np.int64(19),\n",
              " 'max_features': None,\n",
              " 'max_depth': np.int64(16),\n",
              " 'criterion': 'entropy'}"
            ]
          },
          "metadata": {},
          "execution_count": 36
        }
      ]
    },
    {
      "cell_type": "code",
      "source": [
        "dt_random_search_best = tree_rs.best_estimator_\n",
        "\n",
        "train_preds_dt_rs = dt_random_search_best.predict_proba(X_train)[:, 1]\n",
        "val_preds_dt_rs = dt_random_search_best.predict_proba(X_val)[:, 1]\n",
        "\n",
        "auc_train_dt_rs = roc_auc_score(train_targets, train_preds_dt_rs)\n",
        "auc_val_dt_rs = roc_auc_score(val_targets, val_preds_dt_rs)\n",
        "\n",
        "print(auc_train_dt_rs, auc_val_dt_rs)"
      ],
      "metadata": {
        "colab": {
          "base_uri": "https://localhost:8080/"
        },
        "id": "gXpAVccRUDsw",
        "outputId": "eebfb154-7eec-4a7b-9937-6283a18d0195"
      },
      "execution_count": 37,
      "outputs": [
        {
          "output_type": "stream",
          "name": "stdout",
          "text": [
            "0.9214076043172088 0.9220214006447629\n"
          ]
        }
      ]
    },
    {
      "cell_type": "markdown",
      "source": [
        "Ця модель вже краща за усі попередні: AUC і на тренувальній, і на валідаційній вибірці високий – класний результат.\n",
        "\n",
        "У порівняннні з GridSearch бачу, що збільшилась глибина (з 5 до 16), а також кількість нод. Також змінився критерій (у попердній моделі був встановлений за замовчуванням джині)."
      ],
      "metadata": {
        "id": "Z_pkIWRDUanc"
      }
    },
    {
      "cell_type": "markdown",
      "source": [
        "5. Якщо у Вас вийшла метрика `AUROC` в цій серії експериментів - зробіть ще один `submission` на Kaggle і додайте код для цього і скріншот скора на публічному лідерборді нижче.\n",
        "\n",
        "  Сподіваюсь на цьому етапі ви вже відчули себе справжнім дослідником 😉"
      ],
      "metadata": {
        "id": "XArADR2CG8VK"
      }
    },
    {
      "cell_type": "code",
      "source": [
        "test_raw_df = pd.read_csv('drive/MyDrive/Machine Learning Course/datasources/bank-customer-churn-prediction-dlu/test.csv')\n",
        "X_test = preprocess_new_data(test_raw_df, input_cols, scaler, encoder)\n",
        "test_raw_df['Exited'] = dt_random_search_best.predict(X_test)"
      ],
      "metadata": {
        "id": "vadJfLlMF_V3"
      },
      "execution_count": 43,
      "outputs": []
    },
    {
      "cell_type": "code",
      "source": [
        "submission_df = pd.read_csv('drive/MyDrive/Machine Learning Course/datasources/bank-customer-churn-prediction-dlu/sample_submission.csv')\n",
        "submission_df = pd.merge(submission_df['id'], test_raw_df[['id', 'Exited']], on='id', how='left')\n",
        "submission_df.to_csv('submission_rs.csv', index=False)"
      ],
      "metadata": {
        "id": "swaA5CgIVS9H"
      },
      "execution_count": 44,
      "outputs": []
    },
    {
      "cell_type": "markdown",
      "source": [
        "![Screenshot 2025-09-16 at 10.05.15 AM.png](data:image/png;base64,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)"
      ],
      "metadata": {
        "id": "iUrJlkuwV5-t"
      }
    }
  ]
}