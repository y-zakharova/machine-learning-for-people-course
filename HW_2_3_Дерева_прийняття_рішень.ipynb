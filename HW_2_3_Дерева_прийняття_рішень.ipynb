{
  "nbformat": 4,
  "nbformat_minor": 0,
  "metadata": {
    "colab": {
      "provenance": []
    },
    "kernelspec": {
      "name": "python3",
      "display_name": "Python 3"
    },
    "language_info": {
      "name": "python"
    }
  },
  "cells": [
    {
      "cell_type": "markdown",
      "source": [
        "В цьому домашньому завданні ми знову працюємо з даними з нашого змагання [\"Bank Customer Churn Prediction (DLU Course)\"](https://www.kaggle.com/t/7c080c5d8ec64364a93cf4e8f880b6a0).\n",
        "\n",
        "Тут ми побудуємо рішення задачі класифікації з використанням Decision Trees і зробимо новий submission на змагання на Kaggle.\n",
        "\n",
        "В цьому ДЗ ми працюємо без pipelines, бо так буде зручніше для візуалізації і інтерпретації моделі дерева прийняття рішень. Так буває і в робочих проєктах: іноді зручніше використати sklearn.Pipelines, іноді зручніше без них. На етапі пошуку рішення (research) зручніше без пайплайнів, а з пайплайнами - коли ви відлагодили процес обробки даних і хочете поекспериментувати з різними моделями і гіперпараметрами."
      ],
      "metadata": {
        "id": "8J0vzsqQfZlU"
      }
    },
    {
      "cell_type": "markdown",
      "source": [
        "**Завдання 1.**\n",
        "\n",
        "У попередньому домашньому завданні, `HW 2.7 Логістична регресія з scikit learn.ipynb`, ми писали обробку даних для змагання. Ваше завдання зараз - за прикладом, наведеним в лекції `Майстер-клас з перенесення коду з jupyter notebook у Python модуль`, перенести попередню обробку сирих даних з вашого розв'язку ДЗ 2.7 у файл `process_bank_churn.py` в функцію `preprocess_data(...)`.\n",
        "\n",
        "Функція `preprocess_data()` має приймати `raw_df` і вертати `X_train`, `train_targets`, `X_val`, `val_targets`, `input_cols`(перелік назв колонок, які Ви використовуєте в X), `scaler`, `encoder`, які ми потім будемо використовувати для тренування дерева прийняття рішень.\n",
        "\n",
        "\n",
        "### Кроки попередньої обробки:\n",
        "\n",
        "1. Обираємо колонки для роботи. В цьому завдання для чистоти експериментів рекомендую прибрати колонку `Surname`, так буде простіше інтрепретувати модель. Ви можете її додати вже за самостійних подальших експериментів.\n",
        "2. Розбиття сирих даних на тренувальні і валідаційні.\n",
        "3. Обробка категоріальних даних (one hot encoding).\n",
        "4. Масштабування числових даних (було частиною попередньої обробки в попередніх завданнях). Для дерев нам не обовʼязково масштабувати ознаки, тож в коді можна зробити цю частину опціональною, додавши в `preprocess_data` параметр `scaler_numeric`, який приймає значення `True` або `False`. Це дозволить використовувати код попередньоъ обробки з різними моделями.\n",
        "\n",
        "\n",
        "### Інструкції:\n",
        "1. Перенесіть попередню обробку даних у файл `process_bank_churn.py`.\n",
        "2. Забезпечте модулярну структуру функцій: кожна функція повинна виконувати лише одну дію, наприклад, масштабувати ознаки.\n",
        "3. Додайте докстрінги до кожної функції.\n",
        "4. Використовуйте typing для аргументів та значень, що повертаються функціями.\n",
        "5. Передбачте обробку нових даних. Додайте спеціальну функцію `preprocess_new_data(...)`, яка приймає на вхід нові дані в вигляді pandas DataFrame та використовує вже навчені скейлер та енкодер (передані теж як аргументи фукнціх) для їх обробки. Ця функція буде корисною для обробки нових даних перед передбаченням або оцінкою моделі, коли оброблятимемо `test.csv`.\n",
        "\n",
        "Можна і рекомендовано виконувати це завдання з ChatGPT (бажано, новіше, ніж 3.5) як було наведено у відео-прикладі, тільки **ваше додаткове завдання - розібратись з кодом, який вам згенерувала мовна модель :)**.\n",
        "\n",
        "## В результаті цього завдання\n",
        "\n",
        "1. Завантажте ваш готовий `process_bank_churn.py` файл на GitHub у свій репозиторій.\n",
        "2. Додайте посилання на файл в репозиторії тут у ноутбуці.\n",
        "3. Нижче зробіть імпорт функції `preprocess_data` з вашого модуля `process_bank_churn.py`.\n",
        "\n"
      ],
      "metadata": {
        "id": "NQ2RvQ9G6H_v"
      }
    },
    {
      "cell_type": "markdown",
      "source": [
        "link to GitHub: https://github.com/y-zakharova/machine-learning-for-people-course/blob/main/process_bank_churn.py\n",
        "\n",
        "Для виконання завдання використовувала і GPT, i Claude, проте обрала рішення від другої моделі, оскільки більше сподобалась розбивка на функції і детальний опис і опрацювання еррорів."
      ],
      "metadata": {
        "id": "R0DYEd8nxDWM"
      }
    },
    {
      "cell_type": "code",
      "source": [
        "from process_bank_churn import preprocess_data, preprocess_new_data\n",
        "from sklearn.tree import DecisionTreeClassifier, plot_tree, export_text\n",
        "from sklearn.metrics import roc_auc_score\n",
        "\n",
        "import pandas as pd\n",
        "import matplotlib.pyplot as plt"
      ],
      "metadata": {
        "id": "W-R7uUAegJR4"
      },
      "execution_count": 43,
      "outputs": []
    },
    {
      "cell_type": "code",
      "source": [
        "from google.colab import drive\n",
        "drive.mount('/content/drive')"
      ],
      "metadata": {
        "id": "gJKP4iL38AEL",
        "colab": {
          "base_uri": "https://localhost:8080/"
        },
        "outputId": "03ef9f4b-a3e0-47c1-d1f2-027ed02c73fe"
      },
      "execution_count": 2,
      "outputs": [
        {
          "output_type": "stream",
          "name": "stdout",
          "text": [
            "Drive already mounted at /content/drive; to attempt to forcibly remount, call drive.mount(\"/content/drive\", force_remount=True).\n"
          ]
        }
      ]
    },
    {
      "cell_type": "markdown",
      "source": [
        "**Завдання 2.**\n",
        "1. Натренуйте дерево прийняття рішень з зафіксованим `random_state` і з рештою аргументів за замовченням.\n",
        "2. Виведіть area under ROC для моделі на тренувальних і тестувальних даних. Нам потрібна ця метрика, бо вона основна в змаганні. Модель ок, чи є пере- або недотренування?\n",
        "3. Виведіть глибину дерева.\n",
        "4. Побудуйте дерево до глибини 2 включно. Напишіть, які ознаки бачите, що є найвпливовішими тут?\n",
        "5. Створіть датафрейм `importance_df` з feature importances, де в першому стовпчику `feature` - назва ознаки з нашого Х, а в другому `importance` - значення, наскільки ця ознака є важливою в побудованій моделі. Виведіть топ 10 найвпливовіших ознак разом з їх скором важливості (можна або у вигляді таблиці, або в вигляді barplot)."
      ],
      "metadata": {
        "id": "B4YZMqOqaAH1"
      }
    },
    {
      "cell_type": "code",
      "source": [
        "raw_df = pd.read_csv('drive/MyDrive/Machine Learning Course/datasources/bank-customer-churn-prediction-dlu/train.csv')\n",
        "raw_df.head(1)"
      ],
      "metadata": {
        "colab": {
          "base_uri": "https://localhost:8080/",
          "height": 101
        },
        "id": "_EJHhvxegGhP",
        "outputId": "72727245-3eb3-4b5e-bffd-e46a0b866bfc"
      },
      "execution_count": 3,
      "outputs": [
        {
          "output_type": "execute_result",
          "data": {
            "text/plain": [
              "   id  CustomerId  Surname  CreditScore Geography Gender   Age  Tenure  \\\n",
              "0   0  15779985.0  Nwankwo        678.0    France   Male  29.0     4.0   \n",
              "\n",
              "   Balance  NumOfProducts  HasCrCard  IsActiveMember  EstimatedSalary  Exited  \n",
              "0      0.0            3.0        1.0             0.0        180626.36     0.0  "
            ],
            "text/html": [
              "\n",
              "  <div id=\"df-09f12a18-df40-4ef3-87cc-925db4f18184\" class=\"colab-df-container\">\n",
              "    <div>\n",
              "<style scoped>\n",
              "    .dataframe tbody tr th:only-of-type {\n",
              "        vertical-align: middle;\n",
              "    }\n",
              "\n",
              "    .dataframe tbody tr th {\n",
              "        vertical-align: top;\n",
              "    }\n",
              "\n",
              "    .dataframe thead th {\n",
              "        text-align: right;\n",
              "    }\n",
              "</style>\n",
              "<table border=\"1\" class=\"dataframe\">\n",
              "  <thead>\n",
              "    <tr style=\"text-align: right;\">\n",
              "      <th></th>\n",
              "      <th>id</th>\n",
              "      <th>CustomerId</th>\n",
              "      <th>Surname</th>\n",
              "      <th>CreditScore</th>\n",
              "      <th>Geography</th>\n",
              "      <th>Gender</th>\n",
              "      <th>Age</th>\n",
              "      <th>Tenure</th>\n",
              "      <th>Balance</th>\n",
              "      <th>NumOfProducts</th>\n",
              "      <th>HasCrCard</th>\n",
              "      <th>IsActiveMember</th>\n",
              "      <th>EstimatedSalary</th>\n",
              "      <th>Exited</th>\n",
              "    </tr>\n",
              "  </thead>\n",
              "  <tbody>\n",
              "    <tr>\n",
              "      <th>0</th>\n",
              "      <td>0</td>\n",
              "      <td>15779985.0</td>\n",
              "      <td>Nwankwo</td>\n",
              "      <td>678.0</td>\n",
              "      <td>France</td>\n",
              "      <td>Male</td>\n",
              "      <td>29.0</td>\n",
              "      <td>4.0</td>\n",
              "      <td>0.0</td>\n",
              "      <td>3.0</td>\n",
              "      <td>1.0</td>\n",
              "      <td>0.0</td>\n",
              "      <td>180626.36</td>\n",
              "      <td>0.0</td>\n",
              "    </tr>\n",
              "  </tbody>\n",
              "</table>\n",
              "</div>\n",
              "    <div class=\"colab-df-buttons\">\n",
              "\n",
              "  <div class=\"colab-df-container\">\n",
              "    <button class=\"colab-df-convert\" onclick=\"convertToInteractive('df-09f12a18-df40-4ef3-87cc-925db4f18184')\"\n",
              "            title=\"Convert this dataframe to an interactive table.\"\n",
              "            style=\"display:none;\">\n",
              "\n",
              "  <svg xmlns=\"http://www.w3.org/2000/svg\" height=\"24px\" viewBox=\"0 -960 960 960\">\n",
              "    <path d=\"M120-120v-720h720v720H120Zm60-500h600v-160H180v160Zm220 220h160v-160H400v160Zm0 220h160v-160H400v160ZM180-400h160v-160H180v160Zm440 0h160v-160H620v160ZM180-180h160v-160H180v160Zm440 0h160v-160H620v160Z\"/>\n",
              "  </svg>\n",
              "    </button>\n",
              "\n",
              "  <style>\n",
              "    .colab-df-container {\n",
              "      display:flex;\n",
              "      gap: 12px;\n",
              "    }\n",
              "\n",
              "    .colab-df-convert {\n",
              "      background-color: #E8F0FE;\n",
              "      border: none;\n",
              "      border-radius: 50%;\n",
              "      cursor: pointer;\n",
              "      display: none;\n",
              "      fill: #1967D2;\n",
              "      height: 32px;\n",
              "      padding: 0 0 0 0;\n",
              "      width: 32px;\n",
              "    }\n",
              "\n",
              "    .colab-df-convert:hover {\n",
              "      background-color: #E2EBFA;\n",
              "      box-shadow: 0px 1px 2px rgba(60, 64, 67, 0.3), 0px 1px 3px 1px rgba(60, 64, 67, 0.15);\n",
              "      fill: #174EA6;\n",
              "    }\n",
              "\n",
              "    .colab-df-buttons div {\n",
              "      margin-bottom: 4px;\n",
              "    }\n",
              "\n",
              "    [theme=dark] .colab-df-convert {\n",
              "      background-color: #3B4455;\n",
              "      fill: #D2E3FC;\n",
              "    }\n",
              "\n",
              "    [theme=dark] .colab-df-convert:hover {\n",
              "      background-color: #434B5C;\n",
              "      box-shadow: 0px 1px 3px 1px rgba(0, 0, 0, 0.15);\n",
              "      filter: drop-shadow(0px 1px 2px rgba(0, 0, 0, 0.3));\n",
              "      fill: #FFFFFF;\n",
              "    }\n",
              "  </style>\n",
              "\n",
              "    <script>\n",
              "      const buttonEl =\n",
              "        document.querySelector('#df-09f12a18-df40-4ef3-87cc-925db4f18184 button.colab-df-convert');\n",
              "      buttonEl.style.display =\n",
              "        google.colab.kernel.accessAllowed ? 'block' : 'none';\n",
              "\n",
              "      async function convertToInteractive(key) {\n",
              "        const element = document.querySelector('#df-09f12a18-df40-4ef3-87cc-925db4f18184');\n",
              "        const dataTable =\n",
              "          await google.colab.kernel.invokeFunction('convertToInteractive',\n",
              "                                                    [key], {});\n",
              "        if (!dataTable) return;\n",
              "\n",
              "        const docLinkHtml = 'Like what you see? Visit the ' +\n",
              "          '<a target=\"_blank\" href=https://colab.research.google.com/notebooks/data_table.ipynb>data table notebook</a>'\n",
              "          + ' to learn more about interactive tables.';\n",
              "        element.innerHTML = '';\n",
              "        dataTable['output_type'] = 'display_data';\n",
              "        await google.colab.output.renderOutput(dataTable, element);\n",
              "        const docLink = document.createElement('div');\n",
              "        docLink.innerHTML = docLinkHtml;\n",
              "        element.appendChild(docLink);\n",
              "      }\n",
              "    </script>\n",
              "  </div>\n",
              "\n",
              "    </div>\n",
              "  </div>\n"
            ],
            "application/vnd.google.colaboratory.intrinsic+json": {
              "type": "dataframe",
              "variable_name": "raw_df",
              "summary": "{\n  \"name\": \"raw_df\",\n  \"rows\": 15000,\n  \"fields\": [\n    {\n      \"column\": \"id\",\n      \"properties\": {\n        \"dtype\": \"number\",\n        \"std\": 4330,\n        \"min\": 0,\n        \"max\": 14999,\n        \"num_unique_values\": 15000,\n        \"samples\": [\n          11499,\n          6475,\n          13167\n        ],\n        \"semantic_type\": \"\",\n        \"description\": \"\"\n      }\n    },\n    {\n      \"column\": \"CustomerId\",\n      \"properties\": {\n        \"dtype\": \"number\",\n        \"std\": 135205.03256056676,\n        \"min\": 1581102.0,\n        \"max\": 15815690.0,\n        \"num_unique_values\": 6348,\n        \"samples\": [\n          15676835.0,\n          15592999.0,\n          15570533.0\n        ],\n        \"semantic_type\": \"\",\n        \"description\": \"\"\n      }\n    },\n    {\n      \"column\": \"Surname\",\n      \"properties\": {\n        \"dtype\": \"category\",\n        \"num_unique_values\": 764,\n        \"samples\": [\n          \"Ndukaku\",\n          \"Chukwuebuka\",\n          \"Deleon\"\n        ],\n        \"semantic_type\": \"\",\n        \"description\": \"\"\n      }\n    },\n    {\n      \"column\": \"CreditScore\",\n      \"properties\": {\n        \"dtype\": \"number\",\n        \"std\": 72.25592575585755,\n        \"min\": 431.0,\n        \"max\": 850.0,\n        \"num_unique_values\": 378,\n        \"samples\": [\n          507.0,\n          618.0,\n          501.0\n        ],\n        \"semantic_type\": \"\",\n        \"description\": \"\"\n      }\n    },\n    {\n      \"column\": \"Geography\",\n      \"properties\": {\n        \"dtype\": \"category\",\n        \"num_unique_values\": 3,\n        \"samples\": [\n          \"France\",\n          \"Germany\",\n          \"Spain\"\n        ],\n        \"semantic_type\": \"\",\n        \"description\": \"\"\n      }\n    },\n    {\n      \"column\": \"Gender\",\n      \"properties\": {\n        \"dtype\": \"category\",\n        \"num_unique_values\": 2,\n        \"samples\": [\n          \"Female\",\n          \"Male\"\n        ],\n        \"semantic_type\": \"\",\n        \"description\": \"\"\n      }\n    },\n    {\n      \"column\": \"Age\",\n      \"properties\": {\n        \"dtype\": \"number\",\n        \"std\": 8.218363255923181,\n        \"min\": 18.0,\n        \"max\": 74.0,\n        \"num_unique_values\": 56,\n        \"samples\": [\n          29.0,\n          33.0\n        ],\n        \"semantic_type\": \"\",\n        \"description\": \"\"\n      }\n    },\n    {\n      \"column\": \"Tenure\",\n      \"properties\": {\n        \"dtype\": \"number\",\n        \"std\": 2.7766782777940255,\n        \"min\": 0.0,\n        \"max\": 10.0,\n        \"num_unique_values\": 11,\n        \"samples\": [\n          5.0,\n          4.0\n        ],\n        \"semantic_type\": \"\",\n        \"description\": \"\"\n      }\n    },\n    {\n      \"column\": \"Balance\",\n      \"properties\": {\n        \"dtype\": \"number\",\n        \"std\": 59727.30941872732,\n        \"min\": 0.0,\n        \"max\": 209767.31,\n        \"num_unique_values\": 3395,\n        \"samples\": [\n          120811.89,\n          123763.61\n        ],\n        \"semantic_type\": \"\",\n        \"description\": \"\"\n      }\n    },\n    {\n      \"column\": \"NumOfProducts\",\n      \"properties\": {\n        \"dtype\": \"number\",\n        \"std\": 0.5323063205431294,\n        \"min\": 1.0,\n        \"max\": 4.0,\n        \"num_unique_values\": 4,\n        \"samples\": [\n          2.0,\n          4.0\n        ],\n        \"semantic_type\": \"\",\n        \"description\": \"\"\n      }\n    },\n    {\n      \"column\": \"HasCrCard\",\n      \"properties\": {\n        \"dtype\": \"number\",\n        \"std\": 0.40817357465232057,\n        \"min\": 0.0,\n        \"max\": 1.0,\n        \"num_unique_values\": 2,\n        \"samples\": [\n          0.0,\n          1.0\n        ],\n        \"semantic_type\": \"\",\n        \"description\": \"\"\n      }\n    },\n    {\n      \"column\": \"IsActiveMember\",\n      \"properties\": {\n        \"dtype\": \"number\",\n        \"std\": 0.4999098747585243,\n        \"min\": 0.0,\n        \"max\": 1.0,\n        \"num_unique_values\": 2,\n        \"samples\": [\n          1.0,\n          0.0\n        ],\n        \"semantic_type\": \"\",\n        \"description\": \"\"\n      }\n    },\n    {\n      \"column\": \"EstimatedSalary\",\n      \"properties\": {\n        \"dtype\": \"number\",\n        \"std\": 45734.44588762869,\n        \"min\": 11.58,\n        \"max\": 199992.48,\n        \"num_unique_values\": 6242,\n        \"samples\": [\n          113553.42,\n          136816.37\n        ],\n        \"semantic_type\": \"\",\n        \"description\": \"\"\n      }\n    },\n    {\n      \"column\": \"Exited\",\n      \"properties\": {\n        \"dtype\": \"number\",\n        \"std\": 0.40259009858008776,\n        \"min\": 0.0,\n        \"max\": 1.0,\n        \"num_unique_values\": 2,\n        \"samples\": [\n          1.0,\n          0.0\n        ],\n        \"semantic_type\": \"\",\n        \"description\": \"\"\n      }\n    }\n  ]\n}"
            }
          },
          "metadata": {},
          "execution_count": 3
        }
      ]
    },
    {
      "cell_type": "code",
      "source": [
        "data = preprocess_data(raw_df)\n",
        "\n",
        "X_train = data['X_train']\n",
        "train_targets = data['train_targets']\n",
        "X_val = data['X_val']\n",
        "val_targets = data['val_targets']\n",
        "encoder = data['encoder']\n",
        "scaler = data['scaler']"
      ],
      "metadata": {
        "id": "RXsbXXpFglr-"
      },
      "execution_count": 4,
      "outputs": []
    },
    {
      "cell_type": "code",
      "source": [
        "model = DecisionTreeClassifier(random_state=42).fit(X_train, train_targets)"
      ],
      "metadata": {
        "id": "v2U2dJIaF_W4"
      },
      "execution_count": 5,
      "outputs": []
    },
    {
      "cell_type": "code",
      "source": [
        "train_preds = model.predict(X_train)\n",
        "val_preds = model.predict(X_val)\n",
        "\n",
        "auc_train = roc_auc_score(train_targets, train_preds)\n",
        "auc_val = roc_auc_score(val_targets, val_preds)\n",
        "\n",
        "print('ROC AUC train:', auc_train)\n",
        "print('ROC AUC val:', auc_val)"
      ],
      "metadata": {
        "colab": {
          "base_uri": "https://localhost:8080/"
        },
        "id": "b3PIYOzNiLYn",
        "outputId": "c4d833b8-941b-41ef-fedc-87327da3fe69"
      },
      "execution_count": 6,
      "outputs": [
        {
          "output_type": "stream",
          "name": "stdout",
          "text": [
            "ROC AUC train: 1.0\n",
            "ROC AUC val: 0.7740688661773785\n"
          ]
        }
      ]
    },
    {
      "cell_type": "markdown",
      "source": [
        "Модель є перенавченою, оскільки AUC на тренувальних даних = 1, а на валідаційних = 0.77."
      ],
      "metadata": {
        "id": "LN9_KmaYjYUt"
      }
    },
    {
      "cell_type": "code",
      "source": [
        "model.tree_.max_depth"
      ],
      "metadata": {
        "colab": {
          "base_uri": "https://localhost:8080/"
        },
        "id": "sSNQir-LjpG_",
        "outputId": "d8c36682-2c1d-4ee6-8d53-7f572ad70ea7"
      },
      "execution_count": 7,
      "outputs": [
        {
          "output_type": "execute_result",
          "data": {
            "text/plain": [
              "26"
            ]
          },
          "metadata": {},
          "execution_count": 7
        }
      ]
    },
    {
      "cell_type": "code",
      "source": [
        "model_two = DecisionTreeClassifier(random_state=42, max_depth=2).fit(X_train, train_targets)"
      ],
      "metadata": {
        "id": "w_FUlrHfj3j7"
      },
      "execution_count": 8,
      "outputs": []
    },
    {
      "cell_type": "code",
      "source": [
        "train_preds_two = model_two.predict(X_train)\n",
        "val_preds_two = model_two.predict(X_val)\n",
        "\n",
        "auc_train_two = roc_auc_score(train_targets, train_preds_two)\n",
        "auc_val_two = roc_auc_score(val_targets, val_preds_two)\n",
        "\n",
        "print('ROC AUC train:', auc_train_two)\n",
        "print('ROC AUC val:', auc_val_two)"
      ],
      "metadata": {
        "colab": {
          "base_uri": "https://localhost:8080/"
        },
        "id": "iC68lS4ikBqD",
        "outputId": "3334f227-7549-4659-a44b-3a64e3139f28"
      },
      "execution_count": 9,
      "outputs": [
        {
          "output_type": "stream",
          "name": "stdout",
          "text": [
            "ROC AUC train: 0.719689771949659\n",
            "ROC AUC val: 0.7094759585705468\n"
          ]
        }
      ]
    },
    {
      "cell_type": "markdown",
      "source": [
        "Бачимо, що для моделі із максимальною глибиною = 2 вже відсутнє перенавчання, але при цьому точність на валідаційних даних менша."
      ],
      "metadata": {
        "id": "G0Z1AV-CkHht"
      }
    },
    {
      "cell_type": "code",
      "source": [
        "importance_df = pd.DataFrame({\n",
        "    'feature': model_two.feature_names_in_,\n",
        "    'importance': model_two.feature_importances_\n",
        "}).sort_values(by='importance', ascending=False)\n",
        "importance_df.head(10)"
      ],
      "metadata": {
        "colab": {
          "base_uri": "https://localhost:8080/",
          "height": 363
        },
        "id": "C4xJAEbBkWW5",
        "outputId": "b190188e-b0e9-4ef8-bc92-bca2fd2b60bf"
      },
      "execution_count": 10,
      "outputs": [
        {
          "output_type": "execute_result",
          "data": {
            "text/plain": [
              "           feature  importance\n",
              "1              Age    0.714962\n",
              "4    NumOfProducts    0.285038\n",
              "2           Tenure    0.000000\n",
              "0      CreditScore    0.000000\n",
              "3          Balance    0.000000\n",
              "5        HasCrCard    0.000000\n",
              "6   IsActiveMember    0.000000\n",
              "7  EstimatedSalary    0.000000\n",
              "8           France    0.000000\n",
              "9          Germany    0.000000"
            ],
            "text/html": [
              "\n",
              "  <div id=\"df-7b089f96-b268-41ff-815e-1e95908f8411\" class=\"colab-df-container\">\n",
              "    <div>\n",
              "<style scoped>\n",
              "    .dataframe tbody tr th:only-of-type {\n",
              "        vertical-align: middle;\n",
              "    }\n",
              "\n",
              "    .dataframe tbody tr th {\n",
              "        vertical-align: top;\n",
              "    }\n",
              "\n",
              "    .dataframe thead th {\n",
              "        text-align: right;\n",
              "    }\n",
              "</style>\n",
              "<table border=\"1\" class=\"dataframe\">\n",
              "  <thead>\n",
              "    <tr style=\"text-align: right;\">\n",
              "      <th></th>\n",
              "      <th>feature</th>\n",
              "      <th>importance</th>\n",
              "    </tr>\n",
              "  </thead>\n",
              "  <tbody>\n",
              "    <tr>\n",
              "      <th>1</th>\n",
              "      <td>Age</td>\n",
              "      <td>0.714962</td>\n",
              "    </tr>\n",
              "    <tr>\n",
              "      <th>4</th>\n",
              "      <td>NumOfProducts</td>\n",
              "      <td>0.285038</td>\n",
              "    </tr>\n",
              "    <tr>\n",
              "      <th>2</th>\n",
              "      <td>Tenure</td>\n",
              "      <td>0.000000</td>\n",
              "    </tr>\n",
              "    <tr>\n",
              "      <th>0</th>\n",
              "      <td>CreditScore</td>\n",
              "      <td>0.000000</td>\n",
              "    </tr>\n",
              "    <tr>\n",
              "      <th>3</th>\n",
              "      <td>Balance</td>\n",
              "      <td>0.000000</td>\n",
              "    </tr>\n",
              "    <tr>\n",
              "      <th>5</th>\n",
              "      <td>HasCrCard</td>\n",
              "      <td>0.000000</td>\n",
              "    </tr>\n",
              "    <tr>\n",
              "      <th>6</th>\n",
              "      <td>IsActiveMember</td>\n",
              "      <td>0.000000</td>\n",
              "    </tr>\n",
              "    <tr>\n",
              "      <th>7</th>\n",
              "      <td>EstimatedSalary</td>\n",
              "      <td>0.000000</td>\n",
              "    </tr>\n",
              "    <tr>\n",
              "      <th>8</th>\n",
              "      <td>France</td>\n",
              "      <td>0.000000</td>\n",
              "    </tr>\n",
              "    <tr>\n",
              "      <th>9</th>\n",
              "      <td>Germany</td>\n",
              "      <td>0.000000</td>\n",
              "    </tr>\n",
              "  </tbody>\n",
              "</table>\n",
              "</div>\n",
              "    <div class=\"colab-df-buttons\">\n",
              "\n",
              "  <div class=\"colab-df-container\">\n",
              "    <button class=\"colab-df-convert\" onclick=\"convertToInteractive('df-7b089f96-b268-41ff-815e-1e95908f8411')\"\n",
              "            title=\"Convert this dataframe to an interactive table.\"\n",
              "            style=\"display:none;\">\n",
              "\n",
              "  <svg xmlns=\"http://www.w3.org/2000/svg\" height=\"24px\" viewBox=\"0 -960 960 960\">\n",
              "    <path d=\"M120-120v-720h720v720H120Zm60-500h600v-160H180v160Zm220 220h160v-160H400v160Zm0 220h160v-160H400v160ZM180-400h160v-160H180v160Zm440 0h160v-160H620v160ZM180-180h160v-160H180v160Zm440 0h160v-160H620v160Z\"/>\n",
              "  </svg>\n",
              "    </button>\n",
              "\n",
              "  <style>\n",
              "    .colab-df-container {\n",
              "      display:flex;\n",
              "      gap: 12px;\n",
              "    }\n",
              "\n",
              "    .colab-df-convert {\n",
              "      background-color: #E8F0FE;\n",
              "      border: none;\n",
              "      border-radius: 50%;\n",
              "      cursor: pointer;\n",
              "      display: none;\n",
              "      fill: #1967D2;\n",
              "      height: 32px;\n",
              "      padding: 0 0 0 0;\n",
              "      width: 32px;\n",
              "    }\n",
              "\n",
              "    .colab-df-convert:hover {\n",
              "      background-color: #E2EBFA;\n",
              "      box-shadow: 0px 1px 2px rgba(60, 64, 67, 0.3), 0px 1px 3px 1px rgba(60, 64, 67, 0.15);\n",
              "      fill: #174EA6;\n",
              "    }\n",
              "\n",
              "    .colab-df-buttons div {\n",
              "      margin-bottom: 4px;\n",
              "    }\n",
              "\n",
              "    [theme=dark] .colab-df-convert {\n",
              "      background-color: #3B4455;\n",
              "      fill: #D2E3FC;\n",
              "    }\n",
              "\n",
              "    [theme=dark] .colab-df-convert:hover {\n",
              "      background-color: #434B5C;\n",
              "      box-shadow: 0px 1px 3px 1px rgba(0, 0, 0, 0.15);\n",
              "      filter: drop-shadow(0px 1px 2px rgba(0, 0, 0, 0.3));\n",
              "      fill: #FFFFFF;\n",
              "    }\n",
              "  </style>\n",
              "\n",
              "    <script>\n",
              "      const buttonEl =\n",
              "        document.querySelector('#df-7b089f96-b268-41ff-815e-1e95908f8411 button.colab-df-convert');\n",
              "      buttonEl.style.display =\n",
              "        google.colab.kernel.accessAllowed ? 'block' : 'none';\n",
              "\n",
              "      async function convertToInteractive(key) {\n",
              "        const element = document.querySelector('#df-7b089f96-b268-41ff-815e-1e95908f8411');\n",
              "        const dataTable =\n",
              "          await google.colab.kernel.invokeFunction('convertToInteractive',\n",
              "                                                    [key], {});\n",
              "        if (!dataTable) return;\n",
              "\n",
              "        const docLinkHtml = 'Like what you see? Visit the ' +\n",
              "          '<a target=\"_blank\" href=https://colab.research.google.com/notebooks/data_table.ipynb>data table notebook</a>'\n",
              "          + ' to learn more about interactive tables.';\n",
              "        element.innerHTML = '';\n",
              "        dataTable['output_type'] = 'display_data';\n",
              "        await google.colab.output.renderOutput(dataTable, element);\n",
              "        const docLink = document.createElement('div');\n",
              "        docLink.innerHTML = docLinkHtml;\n",
              "        element.appendChild(docLink);\n",
              "      }\n",
              "    </script>\n",
              "  </div>\n",
              "\n",
              "\n",
              "    <div id=\"df-1dcf8f51-6468-4513-923f-8a610b3a0022\">\n",
              "      <button class=\"colab-df-quickchart\" onclick=\"quickchart('df-1dcf8f51-6468-4513-923f-8a610b3a0022')\"\n",
              "                title=\"Suggest charts\"\n",
              "                style=\"display:none;\">\n",
              "\n",
              "<svg xmlns=\"http://www.w3.org/2000/svg\" height=\"24px\"viewBox=\"0 0 24 24\"\n",
              "     width=\"24px\">\n",
              "    <g>\n",
              "        <path d=\"M19 3H5c-1.1 0-2 .9-2 2v14c0 1.1.9 2 2 2h14c1.1 0 2-.9 2-2V5c0-1.1-.9-2-2-2zM9 17H7v-7h2v7zm4 0h-2V7h2v10zm4 0h-2v-4h2v4z\"/>\n",
              "    </g>\n",
              "</svg>\n",
              "      </button>\n",
              "\n",
              "<style>\n",
              "  .colab-df-quickchart {\n",
              "      --bg-color: #E8F0FE;\n",
              "      --fill-color: #1967D2;\n",
              "      --hover-bg-color: #E2EBFA;\n",
              "      --hover-fill-color: #174EA6;\n",
              "      --disabled-fill-color: #AAA;\n",
              "      --disabled-bg-color: #DDD;\n",
              "  }\n",
              "\n",
              "  [theme=dark] .colab-df-quickchart {\n",
              "      --bg-color: #3B4455;\n",
              "      --fill-color: #D2E3FC;\n",
              "      --hover-bg-color: #434B5C;\n",
              "      --hover-fill-color: #FFFFFF;\n",
              "      --disabled-bg-color: #3B4455;\n",
              "      --disabled-fill-color: #666;\n",
              "  }\n",
              "\n",
              "  .colab-df-quickchart {\n",
              "    background-color: var(--bg-color);\n",
              "    border: none;\n",
              "    border-radius: 50%;\n",
              "    cursor: pointer;\n",
              "    display: none;\n",
              "    fill: var(--fill-color);\n",
              "    height: 32px;\n",
              "    padding: 0;\n",
              "    width: 32px;\n",
              "  }\n",
              "\n",
              "  .colab-df-quickchart:hover {\n",
              "    background-color: var(--hover-bg-color);\n",
              "    box-shadow: 0 1px 2px rgba(60, 64, 67, 0.3), 0 1px 3px 1px rgba(60, 64, 67, 0.15);\n",
              "    fill: var(--button-hover-fill-color);\n",
              "  }\n",
              "\n",
              "  .colab-df-quickchart-complete:disabled,\n",
              "  .colab-df-quickchart-complete:disabled:hover {\n",
              "    background-color: var(--disabled-bg-color);\n",
              "    fill: var(--disabled-fill-color);\n",
              "    box-shadow: none;\n",
              "  }\n",
              "\n",
              "  .colab-df-spinner {\n",
              "    border: 2px solid var(--fill-color);\n",
              "    border-color: transparent;\n",
              "    border-bottom-color: var(--fill-color);\n",
              "    animation:\n",
              "      spin 1s steps(1) infinite;\n",
              "  }\n",
              "\n",
              "  @keyframes spin {\n",
              "    0% {\n",
              "      border-color: transparent;\n",
              "      border-bottom-color: var(--fill-color);\n",
              "      border-left-color: var(--fill-color);\n",
              "    }\n",
              "    20% {\n",
              "      border-color: transparent;\n",
              "      border-left-color: var(--fill-color);\n",
              "      border-top-color: var(--fill-color);\n",
              "    }\n",
              "    30% {\n",
              "      border-color: transparent;\n",
              "      border-left-color: var(--fill-color);\n",
              "      border-top-color: var(--fill-color);\n",
              "      border-right-color: var(--fill-color);\n",
              "    }\n",
              "    40% {\n",
              "      border-color: transparent;\n",
              "      border-right-color: var(--fill-color);\n",
              "      border-top-color: var(--fill-color);\n",
              "    }\n",
              "    60% {\n",
              "      border-color: transparent;\n",
              "      border-right-color: var(--fill-color);\n",
              "    }\n",
              "    80% {\n",
              "      border-color: transparent;\n",
              "      border-right-color: var(--fill-color);\n",
              "      border-bottom-color: var(--fill-color);\n",
              "    }\n",
              "    90% {\n",
              "      border-color: transparent;\n",
              "      border-bottom-color: var(--fill-color);\n",
              "    }\n",
              "  }\n",
              "</style>\n",
              "\n",
              "      <script>\n",
              "        async function quickchart(key) {\n",
              "          const quickchartButtonEl =\n",
              "            document.querySelector('#' + key + ' button');\n",
              "          quickchartButtonEl.disabled = true;  // To prevent multiple clicks.\n",
              "          quickchartButtonEl.classList.add('colab-df-spinner');\n",
              "          try {\n",
              "            const charts = await google.colab.kernel.invokeFunction(\n",
              "                'suggestCharts', [key], {});\n",
              "          } catch (error) {\n",
              "            console.error('Error during call to suggestCharts:', error);\n",
              "          }\n",
              "          quickchartButtonEl.classList.remove('colab-df-spinner');\n",
              "          quickchartButtonEl.classList.add('colab-df-quickchart-complete');\n",
              "        }\n",
              "        (() => {\n",
              "          let quickchartButtonEl =\n",
              "            document.querySelector('#df-1dcf8f51-6468-4513-923f-8a610b3a0022 button');\n",
              "          quickchartButtonEl.style.display =\n",
              "            google.colab.kernel.accessAllowed ? 'block' : 'none';\n",
              "        })();\n",
              "      </script>\n",
              "    </div>\n",
              "    </div>\n",
              "  </div>\n"
            ],
            "application/vnd.google.colaboratory.intrinsic+json": {
              "type": "dataframe",
              "variable_name": "importance_df",
              "summary": "{\n  \"name\": \"importance_df\",\n  \"rows\": 12,\n  \"fields\": [\n    {\n      \"column\": \"feature\",\n      \"properties\": {\n        \"dtype\": \"string\",\n        \"num_unique_values\": 12,\n        \"samples\": [\n          \"Spain\",\n          \"Germany\",\n          \"Age\"\n        ],\n        \"semantic_type\": \"\",\n        \"description\": \"\"\n      }\n    },\n    {\n      \"column\": \"importance\",\n      \"properties\": {\n        \"dtype\": \"number\",\n        \"std\": 0.21512869961410216,\n        \"min\": 0.0,\n        \"max\": 0.7149619323363258,\n        \"num_unique_values\": 3,\n        \"samples\": [\n          0.7149619323363258,\n          0.28503806766367423,\n          0.0\n        ],\n        \"semantic_type\": \"\",\n        \"description\": \"\"\n      }\n    }\n  ]\n}"
            }
          },
          "metadata": {},
          "execution_count": 10
        }
      ]
    },
    {
      "cell_type": "markdown",
      "source": [
        "Для дерева глибиною 2 лише дві ознаки є важливими (і коєфіцієнти біля них не нульові): Age та NumOfProducts – це очікувано з глибини дерева. Тому можна переконатись, побудувавши перелік правил, яким керувалась модель:"
      ],
      "metadata": {
        "id": "IzSDi8MJkWH6"
      }
    },
    {
      "cell_type": "code",
      "source": [
        "print(export_text(model_two, feature_names=list(X_train.columns)))"
      ],
      "metadata": {
        "colab": {
          "base_uri": "https://localhost:8080/"
        },
        "id": "Ajmd_0n-l5mk",
        "outputId": "88683231-2f8d-48c1-b672-535d98034dd2"
      },
      "execution_count": 11,
      "outputs": [
        {
          "output_type": "stream",
          "name": "stdout",
          "text": [
            "|--- Age <= 0.46\n",
            "|   |--- NumOfProducts <= 0.17\n",
            "|   |   |--- class: 0.0\n",
            "|   |--- NumOfProducts >  0.17\n",
            "|   |   |--- class: 0.0\n",
            "|--- Age >  0.46\n",
            "|   |--- NumOfProducts <= 0.17\n",
            "|   |   |--- class: 1.0\n",
            "|   |--- NumOfProducts >  0.17\n",
            "|   |   |--- class: 0.0\n",
            "\n"
          ]
        }
      ]
    },
    {
      "cell_type": "markdown",
      "source": [
        "**Завдання 3**. Спробуйте знайти такі параметри моделі `DecisionTree` аби модель генералізувала ліпше (був вищий показник AUROC на валідаційній вибірці). Проекспериментуйте з різними значеннями параметрів `max_leaf_nodes`, `max_depth` та лишіть ті, які дають найкращий результат, разом з відповідними AUROC на тренувальній і валідаційній вибірках.\n",
        "\n",
        "В цьому завданні спробуйте просто знайти параметри методом \"тика\" :)"
      ],
      "metadata": {
        "id": "F-qp7eROd2MF"
      }
    },
    {
      "cell_type": "code",
      "source": [
        "def max_depth_best(md, max_leaf_nodes=None):\n",
        "  model = DecisionTreeClassifier(max_depth=md, max_leaf_nodes=max_leaf_nodes, random_state=42).fit(X_train, train_targets)\n",
        "  train_preds = model.predict(X_train)\n",
        "  val_preds = model.predict(X_val)\n",
        "  train_auc = roc_auc_score(train_targets, train_preds)\n",
        "  val_auc = roc_auc_score(val_targets, val_preds)\n",
        "  return {\n",
        "      'Max Depth': md,\n",
        "      'Max Leaf Nodes': model.max_leaf_nodes,\n",
        "      'Training AUC': train_auc,\n",
        "      'Validation AUC': val_auc\n",
        "      }"
      ],
      "metadata": {
        "id": "z4PK69GAGCsc"
      },
      "execution_count": 12,
      "outputs": []
    },
    {
      "cell_type": "code",
      "source": [
        "max_depth_best(5)"
      ],
      "metadata": {
        "id": "R6RVg0TvGDu1",
        "colab": {
          "base_uri": "https://localhost:8080/"
        },
        "outputId": "3956c8e8-1b3f-473b-cd47-4358e0d25fd5"
      },
      "execution_count": 13,
      "outputs": [
        {
          "output_type": "execute_result",
          "data": {
            "text/plain": [
              "{'Max Depth': 5,\n",
              " 'Max Leaf Nodes': None,\n",
              " 'Training AUC': np.float64(0.7865311382260536),\n",
              " 'Validation AUC': np.float64(0.7736195898209752)}"
            ]
          },
          "metadata": {},
          "execution_count": 13
        }
      ]
    },
    {
      "cell_type": "markdown",
      "source": [
        "Бачимо, що для 5 точність вже вища, ніж для 2, і відсутність переначання. Спробуємо збільшити параметр:"
      ],
      "metadata": {
        "id": "p091iGhYp2FB"
      }
    },
    {
      "cell_type": "code",
      "source": [
        "max_depth_best(12)"
      ],
      "metadata": {
        "colab": {
          "base_uri": "https://localhost:8080/"
        },
        "id": "SrHoXR6lpuSz",
        "outputId": "db4f75dd-fe32-4ecb-d2b7-1369b6bb710e"
      },
      "execution_count": 14,
      "outputs": [
        {
          "output_type": "execute_result",
          "data": {
            "text/plain": [
              "{'Max Depth': 12,\n",
              " 'Max Leaf Nodes': None,\n",
              " 'Training AUC': np.float64(0.9186208550615331),\n",
              " 'Validation AUC': np.float64(0.7850332670279168)}"
            ]
          },
          "metadata": {},
          "execution_count": 14
        }
      ]
    },
    {
      "cell_type": "markdown",
      "source": [
        "Для 12 вже видно перенавчання, оскільки різниця в AUC між тренувальним і валідаційним датасетом 0.13."
      ],
      "metadata": {
        "id": "Mce134HBp-IY"
      }
    },
    {
      "cell_type": "code",
      "source": [
        "max_depth_best(8)"
      ],
      "metadata": {
        "colab": {
          "base_uri": "https://localhost:8080/"
        },
        "id": "bbu5yUlMqQC7",
        "outputId": "fe54c9eb-7cb5-4237-b8e5-a75bb43c1b09"
      },
      "execution_count": 15,
      "outputs": [
        {
          "output_type": "execute_result",
          "data": {
            "text/plain": [
              "{'Max Depth': 8,\n",
              " 'Max Leaf Nodes': None,\n",
              " 'Training AUC': np.float64(0.8489349647541737),\n",
              " 'Validation AUC': np.float64(0.8072467247410661)}"
            ]
          },
          "metadata": {},
          "execution_count": 15
        }
      ]
    },
    {
      "cell_type": "markdown",
      "source": [
        "Доволі хороша точність для глибини 8, наразі це найкращий результат. Тепер можемо зафіксувати цю глибину і потестити кількість нод."
      ],
      "metadata": {
        "id": "AzwctOxSqhJ0"
      }
    },
    {
      "cell_type": "code",
      "source": [
        "max_depth_best(8, 20)"
      ],
      "metadata": {
        "colab": {
          "base_uri": "https://localhost:8080/"
        },
        "id": "sI9Dbsj4rhJd",
        "outputId": "88ed2020-68ae-4589-d511-7aa2c0359596"
      },
      "execution_count": 16,
      "outputs": [
        {
          "output_type": "execute_result",
          "data": {
            "text/plain": [
              "{'Max Depth': 8,\n",
              " 'Max Leaf Nodes': 20,\n",
              " 'Training AUC': np.float64(0.8124967545871501),\n",
              " 'Validation AUC': np.float64(0.8071404074353523)}"
            ]
          },
          "metadata": {},
          "execution_count": 16
        }
      ]
    },
    {
      "cell_type": "code",
      "source": [
        "max_depth_best(8, 70)"
      ],
      "metadata": {
        "colab": {
          "base_uri": "https://localhost:8080/"
        },
        "id": "nTZ8ke0Lq8zA",
        "outputId": "a0cb5439-9db2-4599-f450-4c554af9cbb2"
      },
      "execution_count": 17,
      "outputs": [
        {
          "output_type": "execute_result",
          "data": {
            "text/plain": [
              "{'Max Depth': 8,\n",
              " 'Max Leaf Nodes': 70,\n",
              " 'Training AUC': np.float64(0.8436396077639016),\n",
              " 'Validation AUC': np.float64(0.8127409287331092)}"
            ]
          },
          "metadata": {},
          "execution_count": 17
        }
      ]
    },
    {
      "cell_type": "markdown",
      "source": [
        "**Завдання 4**. В циклі пройдіться по значенням max_depth від 1 до 20 включно, на кожній ітерації натренуйте DecisionTree модель і виміряйте AUROC на трейн і валідаційних даних.\n",
        "\n",
        "В кінці виведіть на графік залеєність між AUROC на трейн і валідаційних даних і номером ітерації."
      ],
      "metadata": {
        "id": "F-g1OXxofYqC"
      }
    },
    {
      "cell_type": "code",
      "source": [
        "max_depth_df = pd.DataFrame([max_depth_best(md) for md in range(1, 21)])\n",
        "max_depth_df"
      ],
      "metadata": {
        "colab": {
          "base_uri": "https://localhost:8080/",
          "height": 677
        },
        "id": "s7I7scysnFvE",
        "outputId": "27a12319-8dae-4745-e5c0-7ba910f3d751"
      },
      "execution_count": 18,
      "outputs": [
        {
          "output_type": "execute_result",
          "data": {
            "text/plain": [
              "    Max Depth Max Leaf Nodes  Training AUC  Validation AUC\n",
              "0           1           None      0.744727        0.734865\n",
              "1           2           None      0.719690        0.709476\n",
              "2           3           None      0.759607        0.744914\n",
              "3           4           None      0.805899        0.795301\n",
              "4           5           None      0.786531        0.773620\n",
              "5           6           None      0.825155        0.804002\n",
              "6           7           None      0.824103        0.799503\n",
              "7           8           None      0.848935        0.807247\n",
              "8           9           None      0.858482        0.795754\n",
              "9          10           None      0.874960        0.795092\n",
              "10         11           None      0.894542        0.791152\n",
              "11         12           None      0.918621        0.785033\n",
              "12         13           None      0.936083        0.784999\n",
              "13         14           None      0.950231        0.777989\n",
              "14         15           None      0.965523        0.775235\n",
              "15         16           None      0.981450        0.778689\n",
              "16         17           None      0.988106        0.777032\n",
              "17         18           None      0.993596        0.777049\n",
              "18         19           None      0.997286        0.774504\n",
              "19         20           None      0.998362        0.770423"
            ],
            "text/html": [
              "\n",
              "  <div id=\"df-a14e97aa-fc94-4ffb-b2f4-f696880b385f\" class=\"colab-df-container\">\n",
              "    <div>\n",
              "<style scoped>\n",
              "    .dataframe tbody tr th:only-of-type {\n",
              "        vertical-align: middle;\n",
              "    }\n",
              "\n",
              "    .dataframe tbody tr th {\n",
              "        vertical-align: top;\n",
              "    }\n",
              "\n",
              "    .dataframe thead th {\n",
              "        text-align: right;\n",
              "    }\n",
              "</style>\n",
              "<table border=\"1\" class=\"dataframe\">\n",
              "  <thead>\n",
              "    <tr style=\"text-align: right;\">\n",
              "      <th></th>\n",
              "      <th>Max Depth</th>\n",
              "      <th>Max Leaf Nodes</th>\n",
              "      <th>Training AUC</th>\n",
              "      <th>Validation AUC</th>\n",
              "    </tr>\n",
              "  </thead>\n",
              "  <tbody>\n",
              "    <tr>\n",
              "      <th>0</th>\n",
              "      <td>1</td>\n",
              "      <td>None</td>\n",
              "      <td>0.744727</td>\n",
              "      <td>0.734865</td>\n",
              "    </tr>\n",
              "    <tr>\n",
              "      <th>1</th>\n",
              "      <td>2</td>\n",
              "      <td>None</td>\n",
              "      <td>0.719690</td>\n",
              "      <td>0.709476</td>\n",
              "    </tr>\n",
              "    <tr>\n",
              "      <th>2</th>\n",
              "      <td>3</td>\n",
              "      <td>None</td>\n",
              "      <td>0.759607</td>\n",
              "      <td>0.744914</td>\n",
              "    </tr>\n",
              "    <tr>\n",
              "      <th>3</th>\n",
              "      <td>4</td>\n",
              "      <td>None</td>\n",
              "      <td>0.805899</td>\n",
              "      <td>0.795301</td>\n",
              "    </tr>\n",
              "    <tr>\n",
              "      <th>4</th>\n",
              "      <td>5</td>\n",
              "      <td>None</td>\n",
              "      <td>0.786531</td>\n",
              "      <td>0.773620</td>\n",
              "    </tr>\n",
              "    <tr>\n",
              "      <th>5</th>\n",
              "      <td>6</td>\n",
              "      <td>None</td>\n",
              "      <td>0.825155</td>\n",
              "      <td>0.804002</td>\n",
              "    </tr>\n",
              "    <tr>\n",
              "      <th>6</th>\n",
              "      <td>7</td>\n",
              "      <td>None</td>\n",
              "      <td>0.824103</td>\n",
              "      <td>0.799503</td>\n",
              "    </tr>\n",
              "    <tr>\n",
              "      <th>7</th>\n",
              "      <td>8</td>\n",
              "      <td>None</td>\n",
              "      <td>0.848935</td>\n",
              "      <td>0.807247</td>\n",
              "    </tr>\n",
              "    <tr>\n",
              "      <th>8</th>\n",
              "      <td>9</td>\n",
              "      <td>None</td>\n",
              "      <td>0.858482</td>\n",
              "      <td>0.795754</td>\n",
              "    </tr>\n",
              "    <tr>\n",
              "      <th>9</th>\n",
              "      <td>10</td>\n",
              "      <td>None</td>\n",
              "      <td>0.874960</td>\n",
              "      <td>0.795092</td>\n",
              "    </tr>\n",
              "    <tr>\n",
              "      <th>10</th>\n",
              "      <td>11</td>\n",
              "      <td>None</td>\n",
              "      <td>0.894542</td>\n",
              "      <td>0.791152</td>\n",
              "    </tr>\n",
              "    <tr>\n",
              "      <th>11</th>\n",
              "      <td>12</td>\n",
              "      <td>None</td>\n",
              "      <td>0.918621</td>\n",
              "      <td>0.785033</td>\n",
              "    </tr>\n",
              "    <tr>\n",
              "      <th>12</th>\n",
              "      <td>13</td>\n",
              "      <td>None</td>\n",
              "      <td>0.936083</td>\n",
              "      <td>0.784999</td>\n",
              "    </tr>\n",
              "    <tr>\n",
              "      <th>13</th>\n",
              "      <td>14</td>\n",
              "      <td>None</td>\n",
              "      <td>0.950231</td>\n",
              "      <td>0.777989</td>\n",
              "    </tr>\n",
              "    <tr>\n",
              "      <th>14</th>\n",
              "      <td>15</td>\n",
              "      <td>None</td>\n",
              "      <td>0.965523</td>\n",
              "      <td>0.775235</td>\n",
              "    </tr>\n",
              "    <tr>\n",
              "      <th>15</th>\n",
              "      <td>16</td>\n",
              "      <td>None</td>\n",
              "      <td>0.981450</td>\n",
              "      <td>0.778689</td>\n",
              "    </tr>\n",
              "    <tr>\n",
              "      <th>16</th>\n",
              "      <td>17</td>\n",
              "      <td>None</td>\n",
              "      <td>0.988106</td>\n",
              "      <td>0.777032</td>\n",
              "    </tr>\n",
              "    <tr>\n",
              "      <th>17</th>\n",
              "      <td>18</td>\n",
              "      <td>None</td>\n",
              "      <td>0.993596</td>\n",
              "      <td>0.777049</td>\n",
              "    </tr>\n",
              "    <tr>\n",
              "      <th>18</th>\n",
              "      <td>19</td>\n",
              "      <td>None</td>\n",
              "      <td>0.997286</td>\n",
              "      <td>0.774504</td>\n",
              "    </tr>\n",
              "    <tr>\n",
              "      <th>19</th>\n",
              "      <td>20</td>\n",
              "      <td>None</td>\n",
              "      <td>0.998362</td>\n",
              "      <td>0.770423</td>\n",
              "    </tr>\n",
              "  </tbody>\n",
              "</table>\n",
              "</div>\n",
              "    <div class=\"colab-df-buttons\">\n",
              "\n",
              "  <div class=\"colab-df-container\">\n",
              "    <button class=\"colab-df-convert\" onclick=\"convertToInteractive('df-a14e97aa-fc94-4ffb-b2f4-f696880b385f')\"\n",
              "            title=\"Convert this dataframe to an interactive table.\"\n",
              "            style=\"display:none;\">\n",
              "\n",
              "  <svg xmlns=\"http://www.w3.org/2000/svg\" height=\"24px\" viewBox=\"0 -960 960 960\">\n",
              "    <path d=\"M120-120v-720h720v720H120Zm60-500h600v-160H180v160Zm220 220h160v-160H400v160Zm0 220h160v-160H400v160ZM180-400h160v-160H180v160Zm440 0h160v-160H620v160ZM180-180h160v-160H180v160Zm440 0h160v-160H620v160Z\"/>\n",
              "  </svg>\n",
              "    </button>\n",
              "\n",
              "  <style>\n",
              "    .colab-df-container {\n",
              "      display:flex;\n",
              "      gap: 12px;\n",
              "    }\n",
              "\n",
              "    .colab-df-convert {\n",
              "      background-color: #E8F0FE;\n",
              "      border: none;\n",
              "      border-radius: 50%;\n",
              "      cursor: pointer;\n",
              "      display: none;\n",
              "      fill: #1967D2;\n",
              "      height: 32px;\n",
              "      padding: 0 0 0 0;\n",
              "      width: 32px;\n",
              "    }\n",
              "\n",
              "    .colab-df-convert:hover {\n",
              "      background-color: #E2EBFA;\n",
              "      box-shadow: 0px 1px 2px rgba(60, 64, 67, 0.3), 0px 1px 3px 1px rgba(60, 64, 67, 0.15);\n",
              "      fill: #174EA6;\n",
              "    }\n",
              "\n",
              "    .colab-df-buttons div {\n",
              "      margin-bottom: 4px;\n",
              "    }\n",
              "\n",
              "    [theme=dark] .colab-df-convert {\n",
              "      background-color: #3B4455;\n",
              "      fill: #D2E3FC;\n",
              "    }\n",
              "\n",
              "    [theme=dark] .colab-df-convert:hover {\n",
              "      background-color: #434B5C;\n",
              "      box-shadow: 0px 1px 3px 1px rgba(0, 0, 0, 0.15);\n",
              "      filter: drop-shadow(0px 1px 2px rgba(0, 0, 0, 0.3));\n",
              "      fill: #FFFFFF;\n",
              "    }\n",
              "  </style>\n",
              "\n",
              "    <script>\n",
              "      const buttonEl =\n",
              "        document.querySelector('#df-a14e97aa-fc94-4ffb-b2f4-f696880b385f button.colab-df-convert');\n",
              "      buttonEl.style.display =\n",
              "        google.colab.kernel.accessAllowed ? 'block' : 'none';\n",
              "\n",
              "      async function convertToInteractive(key) {\n",
              "        const element = document.querySelector('#df-a14e97aa-fc94-4ffb-b2f4-f696880b385f');\n",
              "        const dataTable =\n",
              "          await google.colab.kernel.invokeFunction('convertToInteractive',\n",
              "                                                    [key], {});\n",
              "        if (!dataTable) return;\n",
              "\n",
              "        const docLinkHtml = 'Like what you see? Visit the ' +\n",
              "          '<a target=\"_blank\" href=https://colab.research.google.com/notebooks/data_table.ipynb>data table notebook</a>'\n",
              "          + ' to learn more about interactive tables.';\n",
              "        element.innerHTML = '';\n",
              "        dataTable['output_type'] = 'display_data';\n",
              "        await google.colab.output.renderOutput(dataTable, element);\n",
              "        const docLink = document.createElement('div');\n",
              "        docLink.innerHTML = docLinkHtml;\n",
              "        element.appendChild(docLink);\n",
              "      }\n",
              "    </script>\n",
              "  </div>\n",
              "\n",
              "\n",
              "    <div id=\"df-c468ea31-8fe2-4680-a968-130a28404f5d\">\n",
              "      <button class=\"colab-df-quickchart\" onclick=\"quickchart('df-c468ea31-8fe2-4680-a968-130a28404f5d')\"\n",
              "                title=\"Suggest charts\"\n",
              "                style=\"display:none;\">\n",
              "\n",
              "<svg xmlns=\"http://www.w3.org/2000/svg\" height=\"24px\"viewBox=\"0 0 24 24\"\n",
              "     width=\"24px\">\n",
              "    <g>\n",
              "        <path d=\"M19 3H5c-1.1 0-2 .9-2 2v14c0 1.1.9 2 2 2h14c1.1 0 2-.9 2-2V5c0-1.1-.9-2-2-2zM9 17H7v-7h2v7zm4 0h-2V7h2v10zm4 0h-2v-4h2v4z\"/>\n",
              "    </g>\n",
              "</svg>\n",
              "      </button>\n",
              "\n",
              "<style>\n",
              "  .colab-df-quickchart {\n",
              "      --bg-color: #E8F0FE;\n",
              "      --fill-color: #1967D2;\n",
              "      --hover-bg-color: #E2EBFA;\n",
              "      --hover-fill-color: #174EA6;\n",
              "      --disabled-fill-color: #AAA;\n",
              "      --disabled-bg-color: #DDD;\n",
              "  }\n",
              "\n",
              "  [theme=dark] .colab-df-quickchart {\n",
              "      --bg-color: #3B4455;\n",
              "      --fill-color: #D2E3FC;\n",
              "      --hover-bg-color: #434B5C;\n",
              "      --hover-fill-color: #FFFFFF;\n",
              "      --disabled-bg-color: #3B4455;\n",
              "      --disabled-fill-color: #666;\n",
              "  }\n",
              "\n",
              "  .colab-df-quickchart {\n",
              "    background-color: var(--bg-color);\n",
              "    border: none;\n",
              "    border-radius: 50%;\n",
              "    cursor: pointer;\n",
              "    display: none;\n",
              "    fill: var(--fill-color);\n",
              "    height: 32px;\n",
              "    padding: 0;\n",
              "    width: 32px;\n",
              "  }\n",
              "\n",
              "  .colab-df-quickchart:hover {\n",
              "    background-color: var(--hover-bg-color);\n",
              "    box-shadow: 0 1px 2px rgba(60, 64, 67, 0.3), 0 1px 3px 1px rgba(60, 64, 67, 0.15);\n",
              "    fill: var(--button-hover-fill-color);\n",
              "  }\n",
              "\n",
              "  .colab-df-quickchart-complete:disabled,\n",
              "  .colab-df-quickchart-complete:disabled:hover {\n",
              "    background-color: var(--disabled-bg-color);\n",
              "    fill: var(--disabled-fill-color);\n",
              "    box-shadow: none;\n",
              "  }\n",
              "\n",
              "  .colab-df-spinner {\n",
              "    border: 2px solid var(--fill-color);\n",
              "    border-color: transparent;\n",
              "    border-bottom-color: var(--fill-color);\n",
              "    animation:\n",
              "      spin 1s steps(1) infinite;\n",
              "  }\n",
              "\n",
              "  @keyframes spin {\n",
              "    0% {\n",
              "      border-color: transparent;\n",
              "      border-bottom-color: var(--fill-color);\n",
              "      border-left-color: var(--fill-color);\n",
              "    }\n",
              "    20% {\n",
              "      border-color: transparent;\n",
              "      border-left-color: var(--fill-color);\n",
              "      border-top-color: var(--fill-color);\n",
              "    }\n",
              "    30% {\n",
              "      border-color: transparent;\n",
              "      border-left-color: var(--fill-color);\n",
              "      border-top-color: var(--fill-color);\n",
              "      border-right-color: var(--fill-color);\n",
              "    }\n",
              "    40% {\n",
              "      border-color: transparent;\n",
              "      border-right-color: var(--fill-color);\n",
              "      border-top-color: var(--fill-color);\n",
              "    }\n",
              "    60% {\n",
              "      border-color: transparent;\n",
              "      border-right-color: var(--fill-color);\n",
              "    }\n",
              "    80% {\n",
              "      border-color: transparent;\n",
              "      border-right-color: var(--fill-color);\n",
              "      border-bottom-color: var(--fill-color);\n",
              "    }\n",
              "    90% {\n",
              "      border-color: transparent;\n",
              "      border-bottom-color: var(--fill-color);\n",
              "    }\n",
              "  }\n",
              "</style>\n",
              "\n",
              "      <script>\n",
              "        async function quickchart(key) {\n",
              "          const quickchartButtonEl =\n",
              "            document.querySelector('#' + key + ' button');\n",
              "          quickchartButtonEl.disabled = true;  // To prevent multiple clicks.\n",
              "          quickchartButtonEl.classList.add('colab-df-spinner');\n",
              "          try {\n",
              "            const charts = await google.colab.kernel.invokeFunction(\n",
              "                'suggestCharts', [key], {});\n",
              "          } catch (error) {\n",
              "            console.error('Error during call to suggestCharts:', error);\n",
              "          }\n",
              "          quickchartButtonEl.classList.remove('colab-df-spinner');\n",
              "          quickchartButtonEl.classList.add('colab-df-quickchart-complete');\n",
              "        }\n",
              "        (() => {\n",
              "          let quickchartButtonEl =\n",
              "            document.querySelector('#df-c468ea31-8fe2-4680-a968-130a28404f5d button');\n",
              "          quickchartButtonEl.style.display =\n",
              "            google.colab.kernel.accessAllowed ? 'block' : 'none';\n",
              "        })();\n",
              "      </script>\n",
              "    </div>\n",
              "    </div>\n",
              "  </div>\n"
            ],
            "application/vnd.google.colaboratory.intrinsic+json": {
              "type": "dataframe",
              "variable_name": "max_depth_df",
              "repr_error": "Out of range float values are not JSON compliant: nan"
            }
          },
          "metadata": {},
          "execution_count": 18
        }
      ]
    },
    {
      "cell_type": "code",
      "source": [
        "plt.figure(figsize=(10, 6))\n",
        "plt.plot(max_depth_df['Max Depth'], max_depth_df['Training AUC'])\n",
        "plt.plot(max_depth_df['Max Depth'], max_depth_df['Validation AUC'])\n",
        "plt.title('Training vs. Validation AUC')\n",
        "plt.xticks(range(0,21, 2))\n",
        "plt.xlabel('Max. Depth')\n",
        "plt.ylabel('AUC')\n",
        "plt.legend(['Training', 'Validation']);"
      ],
      "metadata": {
        "colab": {
          "base_uri": "https://localhost:8080/",
          "height": 564
        },
        "id": "1DiFj2OOnkUK",
        "outputId": "8ff3c69c-a8f0-450f-d4b0-d55af5aac518"
      },
      "execution_count": 19,
      "outputs": [
        {
          "output_type": "display_data",
          "data": {
            "text/plain": [
              "<Figure size 1000x600 with 1 Axes>"
            ],
            "image/png": "[encoded data removed]"
          },
          "metadata": {}
        }
      ]
    },
    {
      "cell_type": "markdown",
      "source": [
        "Я вважаю, що найкращою виявилася модель з глибиною дерева = 7, оскільки значення AUC для тренувальної і валідаційної вибірки були доволі близько одна до одною, а також не було перенавчання (з графіка видно, що після 8 точність на тренувальних почала рости, а на валідаційних – падати)."
      ],
      "metadata": {
        "id": "MzyOKmzaoizt"
      }
    },
    {
      "cell_type": "markdown",
      "source": [
        "**Завдання 5**.\n",
        "1. Натренуйте модель `DecisionTree` з найкращим значенням `max_depth`, яке ви знайшли на попередній ітерації.\n",
        "2. Завантажте тестові дані змагання з `test.csv`.\n",
        "3. Зробіть попередню обробку даних з функцією `preprocess_new_data` з вашого модуля `process_bank_churn.py`.\n",
        "4. Зробіть передбачення використовуючи цю модель на тестових даних змагання.\n",
        "5. Сформуйте `submission.csv`.\n",
        "6. Зробіть новий Submission на Kaggle і додайте тут скріншот Вашого скору на паблік лідерборді :)\n"
      ],
      "metadata": {
        "id": "3cpULQtgiC5T"
      }
    },
    {
      "cell_type": "code",
      "source": [
        "model_best = DecisionTreeClassifier(max_depth=7, random_state=42)\n",
        "model_best.fit(X_train, train_targets)"
      ],
      "metadata": {
        "id": "ht6fOjbQGH2D",
        "colab": {
          "base_uri": "https://localhost:8080/",
          "height": 80
        },
        "outputId": "c0f70b57-ac8f-417f-eff3-089217928540"
      },
      "execution_count": 38,
      "outputs": [
        {
          "output_type": "execute_result",
          "data": {
            "text/plain": [
              "DecisionTreeClassifier(max_depth=7, random_state=42)"
            ],
            "text/html": [
              "<style>#sk-container-id-3 {\n",
              "  /* Definition of color scheme common for light and dark mode */\n",
              "  --sklearn-color-text: #000;\n",
              "  --sklearn-color-text-muted: #666;\n",
              "  --sklearn-color-line: gray;\n",
              "  /* Definition of color scheme for unfitted estimators */\n",
              "  --sklearn-color-unfitted-level-0: #fff5e6;\n",
              "  --sklearn-color-unfitted-level-1: #f6e4d2;\n",
              "  --sklearn-color-unfitted-level-2: #ffe0b3;\n",
              "  --sklearn-color-unfitted-level-3: chocolate;\n",
              "  /* Definition of color scheme for fitted estimators */\n",
              "  --sklearn-color-fitted-level-0: #f0f8ff;\n",
              "  --sklearn-color-fitted-level-1: #d4ebff;\n",
              "  --sklearn-color-fitted-level-2: #b3dbfd;\n",
              "  --sklearn-color-fitted-level-3: cornflowerblue;\n",
              "\n",
              "  /* Specific color for light theme */\n",
              "  --sklearn-color-text-on-default-background: var(--sg-text-color, var(--theme-code-foreground, var(--jp-content-font-color1, black)));\n",
              "  --sklearn-color-background: var(--sg-background-color, var(--theme-background, var(--jp-layout-color0, white)));\n",
              "  --sklearn-color-border-box: var(--sg-text-color, var(--theme-code-foreground, var(--jp-content-font-color1, black)));\n",
              "  --sklearn-color-icon: #696969;\n",
              "\n",
              "  @media (prefers-color-scheme: dark) {\n",
              "    /* Redefinition of color scheme for dark theme */\n",
              "    --sklearn-color-text-on-default-background: var(--sg-text-color, var(--theme-code-foreground, var(--jp-content-font-color1, white)));\n",
              "    --sklearn-color-background: var(--sg-background-color, var(--theme-background, var(--jp-layout-color0, #111)));\n",
              "    --sklearn-color-border-box: var(--sg-text-color, var(--theme-code-foreground, var(--jp-content-font-color1, white)));\n",
              "    --sklearn-color-icon: #878787;\n",
              "  }\n",
              "}\n",
              "\n",
              "#sk-container-id-3 {\n",
              "  color: var(--sklearn-color-text);\n",
              "}\n",
              "\n",
              "#sk-container-id-3 pre {\n",
              "  padding: 0;\n",
              "}\n",
              "\n",
              "#sk-container-id-3 input.sk-hidden--visually {\n",
              "  border: 0;\n",
              "  clip: rect(1px 1px 1px 1px);\n",
              "  clip: rect(1px, 1px, 1px, 1px);\n",
              "  height: 1px;\n",
              "  margin: -1px;\n",
              "  overflow: hidden;\n",
              "  padding: 0;\n",
              "  position: absolute;\n",
              "  width: 1px;\n",
              "}\n",
              "\n",
              "#sk-container-id-3 div.sk-dashed-wrapped {\n",
              "  border: 1px dashed var(--sklearn-color-line);\n",
              "  margin: 0 0.4em 0.5em 0.4em;\n",
              "  box-sizing: border-box;\n",
              "  padding-bottom: 0.4em;\n",
              "  background-color: var(--sklearn-color-background);\n",
              "}\n",
              "\n",
              "#sk-container-id-3 div.sk-container {\n",
              "  /* jupyter's `normalize.less` sets `[hidden] { display: none; }`\n",
              "     but bootstrap.min.css set `[hidden] { display: none !important; }`\n",
              "     so we also need the `!important` here to be able to override the\n",
              "     default hidden behavior on the sphinx rendered scikit-learn.org.\n",
              "     See: https://github.com/scikit-learn/scikit-learn/issues/21755 */\n",
              "  display: inline-block !important;\n",
              "  position: relative;\n",
              "}\n",
              "\n",
              "#sk-container-id-3 div.sk-text-repr-fallback {\n",
              "  display: none;\n",
              "}\n",
              "\n",
              "div.sk-parallel-item,\n",
              "div.sk-serial,\n",
              "div.sk-item {\n",
              "  /* draw centered vertical line to link estimators */\n",
              "  background-image: linear-gradient(var(--sklearn-color-text-on-default-background), var(--sklearn-color-text-on-default-background));\n",
              "  background-size: 2px 100%;\n",
              "  background-repeat: no-repeat;\n",
              "  background-position: center center;\n",
              "}\n",
              "\n",
              "/* Parallel-specific style estimator block */\n",
              "\n",
              "#sk-container-id-3 div.sk-parallel-item::after {\n",
              "  content: \"\";\n",
              "  width: 100%;\n",
              "  border-bottom: 2px solid var(--sklearn-color-text-on-default-background);\n",
              "  flex-grow: 1;\n",
              "}\n",
              "\n",
              "#sk-container-id-3 div.sk-parallel {\n",
              "  display: flex;\n",
              "  align-items: stretch;\n",
              "  justify-content: center;\n",
              "  background-color: var(--sklearn-color-background);\n",
              "  position: relative;\n",
              "}\n",
              "\n",
              "#sk-container-id-3 div.sk-parallel-item {\n",
              "  display: flex;\n",
              "  flex-direction: column;\n",
              "}\n",
              "\n",
              "#sk-container-id-3 div.sk-parallel-item:first-child::after {\n",
              "  align-self: flex-end;\n",
              "  width: 50%;\n",
              "}\n",
              "\n",
              "#sk-container-id-3 div.sk-parallel-item:last-child::after {\n",
              "  align-self: flex-start;\n",
              "  width: 50%;\n",
              "}\n",
              "\n",
              "#sk-container-id-3 div.sk-parallel-item:only-child::after {\n",
              "  width: 0;\n",
              "}\n",
              "\n",
              "/* Serial-specific style estimator block */\n",
              "\n",
              "#sk-container-id-3 div.sk-serial {\n",
              "  display: flex;\n",
              "  flex-direction: column;\n",
              "  align-items: center;\n",
              "  background-color: var(--sklearn-color-background);\n",
              "  padding-right: 1em;\n",
              "  padding-left: 1em;\n",
              "}\n",
              "\n",
              "\n",
              "/* Toggleable style: style used for estimator/Pipeline/ColumnTransformer box that is\n",
              "clickable and can be expanded/collapsed.\n",
              "- Pipeline and ColumnTransformer use this feature and define the default style\n",
              "- Estimators will overwrite some part of the style using the `sk-estimator` class\n",
              "*/\n",
              "\n",
              "/* Pipeline and ColumnTransformer style (default) */\n",
              "\n",
              "#sk-container-id-3 div.sk-toggleable {\n",
              "  /* Default theme specific background. It is overwritten whether we have a\n",
              "  specific estimator or a Pipeline/ColumnTransformer */\n",
              "  background-color: var(--sklearn-color-background);\n",
              "}\n",
              "\n",
              "/* Toggleable label */\n",
              "#sk-container-id-3 label.sk-toggleable__label {\n",
              "  cursor: pointer;\n",
              "  display: flex;\n",
              "  width: 100%;\n",
              "  margin-bottom: 0;\n",
              "  padding: 0.5em;\n",
              "  box-sizing: border-box;\n",
              "  text-align: center;\n",
              "  align-items: start;\n",
              "  justify-content: space-between;\n",
              "  gap: 0.5em;\n",
              "}\n",
              "\n",
              "#sk-container-id-3 label.sk-toggleable__label .caption {\n",
              "  font-size: 0.6rem;\n",
              "  font-weight: lighter;\n",
              "  color: var(--sklearn-color-text-muted);\n",
              "}\n",
              "\n",
              "#sk-container-id-3 label.sk-toggleable__label-arrow:before {\n",
              "  /* Arrow on the left of the label */\n",
              "  content: \"▸\";\n",
              "  float: left;\n",
              "  margin-right: 0.25em;\n",
              "  color: var(--sklearn-color-icon);\n",
              "}\n",
              "\n",
              "#sk-container-id-3 label.sk-toggleable__label-arrow:hover:before {\n",
              "  color: var(--sklearn-color-text);\n",
              "}\n",
              "\n",
              "/* Toggleable content - dropdown */\n",
              "\n",
              "#sk-container-id-3 div.sk-toggleable__content {\n",
              "  max-height: 0;\n",
              "  max-width: 0;\n",
              "  overflow: hidden;\n",
              "  text-align: left;\n",
              "  /* unfitted */\n",
              "  background-color: var(--sklearn-color-unfitted-level-0);\n",
              "}\n",
              "\n",
              "#sk-container-id-3 div.sk-toggleable__content.fitted {\n",
              "  /* fitted */\n",
              "  background-color: var(--sklearn-color-fitted-level-0);\n",
              "}\n",
              "\n",
              "#sk-container-id-3 div.sk-toggleable__content pre {\n",
              "  margin: 0.2em;\n",
              "  border-radius: 0.25em;\n",
              "  color: var(--sklearn-color-text);\n",
              "  /* unfitted */\n",
              "  background-color: var(--sklearn-color-unfitted-level-0);\n",
              "}\n",
              "\n",
              "#sk-container-id-3 div.sk-toggleable__content.fitted pre {\n",
              "  /* unfitted */\n",
              "  background-color: var(--sklearn-color-fitted-level-0);\n",
              "}\n",
              "\n",
              "#sk-container-id-3 input.sk-toggleable__control:checked~div.sk-toggleable__content {\n",
              "  /* Expand drop-down */\n",
              "  max-height: 200px;\n",
              "  max-width: 100%;\n",
              "  overflow: auto;\n",
              "}\n",
              "\n",
              "#sk-container-id-3 input.sk-toggleable__control:checked~label.sk-toggleable__label-arrow:before {\n",
              "  content: \"▾\";\n",
              "}\n",
              "\n",
              "/* Pipeline/ColumnTransformer-specific style */\n",
              "\n",
              "#sk-container-id-3 div.sk-label input.sk-toggleable__control:checked~label.sk-toggleable__label {\n",
              "  color: var(--sklearn-color-text);\n",
              "  background-color: var(--sklearn-color-unfitted-level-2);\n",
              "}\n",
              "\n",
              "#sk-container-id-3 div.sk-label.fitted input.sk-toggleable__control:checked~label.sk-toggleable__label {\n",
              "  background-color: var(--sklearn-color-fitted-level-2);\n",
              "}\n",
              "\n",
              "/* Estimator-specific style */\n",
              "\n",
              "/* Colorize estimator box */\n",
              "#sk-container-id-3 div.sk-estimator input.sk-toggleable__control:checked~label.sk-toggleable__label {\n",
              "  /* unfitted */\n",
              "  background-color: var(--sklearn-color-unfitted-level-2);\n",
              "}\n",
              "\n",
              "#sk-container-id-3 div.sk-estimator.fitted input.sk-toggleable__control:checked~label.sk-toggleable__label {\n",
              "  /* fitted */\n",
              "  background-color: var(--sklearn-color-fitted-level-2);\n",
              "}\n",
              "\n",
              "#sk-container-id-3 div.sk-label label.sk-toggleable__label,\n",
              "#sk-container-id-3 div.sk-label label {\n",
              "  /* The background is the default theme color */\n",
              "  color: var(--sklearn-color-text-on-default-background);\n",
              "}\n",
              "\n",
              "/* On hover, darken the color of the background */\n",
              "#sk-container-id-3 div.sk-label:hover label.sk-toggleable__label {\n",
              "  color: var(--sklearn-color-text);\n",
              "  background-color: var(--sklearn-color-unfitted-level-2);\n",
              "}\n",
              "\n",
              "/* Label box, darken color on hover, fitted */\n",
              "#sk-container-id-3 div.sk-label.fitted:hover label.sk-toggleable__label.fitted {\n",
              "  color: var(--sklearn-color-text);\n",
              "  background-color: var(--sklearn-color-fitted-level-2);\n",
              "}\n",
              "\n",
              "/* Estimator label */\n",
              "\n",
              "#sk-container-id-3 div.sk-label label {\n",
              "  font-family: monospace;\n",
              "  font-weight: bold;\n",
              "  display: inline-block;\n",
              "  line-height: 1.2em;\n",
              "}\n",
              "\n",
              "#sk-container-id-3 div.sk-label-container {\n",
              "  text-align: center;\n",
              "}\n",
              "\n",
              "/* Estimator-specific */\n",
              "#sk-container-id-3 div.sk-estimator {\n",
              "  font-family: monospace;\n",
              "  border: 1px dotted var(--sklearn-color-border-box);\n",
              "  border-radius: 0.25em;\n",
              "  box-sizing: border-box;\n",
              "  margin-bottom: 0.5em;\n",
              "  /* unfitted */\n",
              "  background-color: var(--sklearn-color-unfitted-level-0);\n",
              "}\n",
              "\n",
              "#sk-container-id-3 div.sk-estimator.fitted {\n",
              "  /* fitted */\n",
              "  background-color: var(--sklearn-color-fitted-level-0);\n",
              "}\n",
              "\n",
              "/* on hover */\n",
              "#sk-container-id-3 div.sk-estimator:hover {\n",
              "  /* unfitted */\n",
              "  background-color: var(--sklearn-color-unfitted-level-2);\n",
              "}\n",
              "\n",
              "#sk-container-id-3 div.sk-estimator.fitted:hover {\n",
              "  /* fitted */\n",
              "  background-color: var(--sklearn-color-fitted-level-2);\n",
              "}\n",
              "\n",
              "/* Specification for estimator info (e.g. \"i\" and \"?\") */\n",
              "\n",
              "/* Common style for \"i\" and \"?\" */\n",
              "\n",
              ".sk-estimator-doc-link,\n",
              "a:link.sk-estimator-doc-link,\n",
              "a:visited.sk-estimator-doc-link {\n",
              "  float: right;\n",
              "  font-size: smaller;\n",
              "  line-height: 1em;\n",
              "  font-family: monospace;\n",
              "  background-color: var(--sklearn-color-background);\n",
              "  border-radius: 1em;\n",
              "  height: 1em;\n",
              "  width: 1em;\n",
              "  text-decoration: none !important;\n",
              "  margin-left: 0.5em;\n",
              "  text-align: center;\n",
              "  /* unfitted */\n",
              "  border: var(--sklearn-color-unfitted-level-1) 1pt solid;\n",
              "  color: var(--sklearn-color-unfitted-level-1);\n",
              "}\n",
              "\n",
              ".sk-estimator-doc-link.fitted,\n",
              "a:link.sk-estimator-doc-link.fitted,\n",
              "a:visited.sk-estimator-doc-link.fitted {\n",
              "  /* fitted */\n",
              "  border: var(--sklearn-color-fitted-level-1) 1pt solid;\n",
              "  color: var(--sklearn-color-fitted-level-1);\n",
              "}\n",
              "\n",
              "/* On hover */\n",
              "div.sk-estimator:hover .sk-estimator-doc-link:hover,\n",
              ".sk-estimator-doc-link:hover,\n",
              "div.sk-label-container:hover .sk-estimator-doc-link:hover,\n",
              ".sk-estimator-doc-link:hover {\n",
              "  /* unfitted */\n",
              "  background-color: var(--sklearn-color-unfitted-level-3);\n",
              "  color: var(--sklearn-color-background);\n",
              "  text-decoration: none;\n",
              "}\n",
              "\n",
              "div.sk-estimator.fitted:hover .sk-estimator-doc-link.fitted:hover,\n",
              ".sk-estimator-doc-link.fitted:hover,\n",
              "div.sk-label-container:hover .sk-estimator-doc-link.fitted:hover,\n",
              ".sk-estimator-doc-link.fitted:hover {\n",
              "  /* fitted */\n",
              "  background-color: var(--sklearn-color-fitted-level-3);\n",
              "  color: var(--sklearn-color-background);\n",
              "  text-decoration: none;\n",
              "}\n",
              "\n",
              "/* Span, style for the box shown on hovering the info icon */\n",
              ".sk-estimator-doc-link span {\n",
              "  display: none;\n",
              "  z-index: 9999;\n",
              "  position: relative;\n",
              "  font-weight: normal;\n",
              "  right: .2ex;\n",
              "  padding: .5ex;\n",
              "  margin: .5ex;\n",
              "  width: min-content;\n",
              "  min-width: 20ex;\n",
              "  max-width: 50ex;\n",
              "  color: var(--sklearn-color-text);\n",
              "  box-shadow: 2pt 2pt 4pt #999;\n",
              "  /* unfitted */\n",
              "  background: var(--sklearn-color-unfitted-level-0);\n",
              "  border: .5pt solid var(--sklearn-color-unfitted-level-3);\n",
              "}\n",
              "\n",
              ".sk-estimator-doc-link.fitted span {\n",
              "  /* fitted */\n",
              "  background: var(--sklearn-color-fitted-level-0);\n",
              "  border: var(--sklearn-color-fitted-level-3);\n",
              "}\n",
              "\n",
              ".sk-estimator-doc-link:hover span {\n",
              "  display: block;\n",
              "}\n",
              "\n",
              "/* \"?\"-specific style due to the `<a>` HTML tag */\n",
              "\n",
              "#sk-container-id-3 a.estimator_doc_link {\n",
              "  float: right;\n",
              "  font-size: 1rem;\n",
              "  line-height: 1em;\n",
              "  font-family: monospace;\n",
              "  background-color: var(--sklearn-color-background);\n",
              "  border-radius: 1rem;\n",
              "  height: 1rem;\n",
              "  width: 1rem;\n",
              "  text-decoration: none;\n",
              "  /* unfitted */\n",
              "  color: var(--sklearn-color-unfitted-level-1);\n",
              "  border: var(--sklearn-color-unfitted-level-1) 1pt solid;\n",
              "}\n",
              "\n",
              "#sk-container-id-3 a.estimator_doc_link.fitted {\n",
              "  /* fitted */\n",
              "  border: var(--sklearn-color-fitted-level-1) 1pt solid;\n",
              "  color: var(--sklearn-color-fitted-level-1);\n",
              "}\n",
              "\n",
              "/* On hover */\n",
              "#sk-container-id-3 a.estimator_doc_link:hover {\n",
              "  /* unfitted */\n",
              "  background-color: var(--sklearn-color-unfitted-level-3);\n",
              "  color: var(--sklearn-color-background);\n",
              "  text-decoration: none;\n",
              "}\n",
              "\n",
              "#sk-container-id-3 a.estimator_doc_link.fitted:hover {\n",
              "  /* fitted */\n",
              "  background-color: var(--sklearn-color-fitted-level-3);\n",
              "}\n",
              "</style><div id=\"sk-container-id-3\" class=\"sk-top-container\"><div class=\"sk-text-repr-fallback\"><pre>DecisionTreeClassifier(max_depth=7, random_state=42)</pre><b>In a Jupyter environment, please rerun this cell to show the HTML representation or trust the notebook. <br />On GitHub, the HTML representation is unable to render, please try loading this page with nbviewer.org.</b></div><div class=\"sk-container\" hidden><div class=\"sk-item\"><div class=\"sk-estimator fitted sk-toggleable\"><input class=\"sk-toggleable__control sk-hidden--visually\" id=\"sk-estimator-id-3\" type=\"checkbox\" checked><label for=\"sk-estimator-id-3\" class=\"sk-toggleable__label fitted sk-toggleable__label-arrow\"><div><div>DecisionTreeClassifier</div></div><div><a class=\"sk-estimator-doc-link fitted\" rel=\"noreferrer\" target=\"_blank\" href=\"https://scikit-learn.org/1.6/modules/generated/sklearn.tree.DecisionTreeClassifier.html\">?<span>Documentation for DecisionTreeClassifier</span></a><span class=\"sk-estimator-doc-link fitted\">i<span>Fitted</span></span></div></label><div class=\"sk-toggleable__content fitted\"><pre>DecisionTreeClassifier(max_depth=7, random_state=42)</pre></div> </div></div></div></div>"
            ]
          },
          "metadata": {},
          "execution_count": 38
        }
      ]
    },
    {
      "cell_type": "code",
      "source": [
        "max_depth_best(7)"
      ],
      "metadata": {
        "colab": {
          "base_uri": "https://localhost:8080/"
        },
        "id": "kIfMLWLosI64",
        "outputId": "f114aea2-1d32-48bd-ca05-81068c9c3a61"
      },
      "execution_count": 39,
      "outputs": [
        {
          "output_type": "execute_result",
          "data": {
            "text/plain": [
              "{'Max Depth': 7,\n",
              " 'Max Leaf Nodes': None,\n",
              " 'Training AUC': np.float64(0.8241033791881249),\n",
              " 'Validation AUC': np.float64(0.7995027093765005)}"
            ]
          },
          "metadata": {},
          "execution_count": 39
        }
      ]
    },
    {
      "cell_type": "code",
      "source": [
        "test_raw_df = pd.read_csv('drive/MyDrive/Machine Learning Course/datasources/bank-customer-churn-prediction-dlu/test.csv')\n",
        "X_test = preprocess_new_data(test_raw_df, scaler, encoder)"
      ],
      "metadata": {
        "id": "vawdDL9dsRyU"
      },
      "execution_count": 40,
      "outputs": []
    },
    {
      "cell_type": "code",
      "source": [
        "test_raw_df['Exited'] = model_best.predict(X_test)"
      ],
      "metadata": {
        "id": "M1f-A6ohuJly"
      },
      "execution_count": 41,
      "outputs": []
    },
    {
      "cell_type": "code",
      "source": [
        "submission_df = pd.read_csv('drive/MyDrive/Machine Learning Course/datasources/bank-customer-churn-prediction-dlu/sample_submission.csv')\n",
        "submission_df = pd.merge(submission_df['id'], test_raw_df[['id', 'Exited']], on='id', how='left')\n",
        "submission_df.to_csv('submission_tree.csv', index=False)"
      ],
      "metadata": {
        "id": "ASYjw5HRurWn"
      },
      "execution_count": 42,
      "outputs": []
    },
    {
      "cell_type": "markdown",
      "source": [
        "Оскільки у мене late submission, то не бачу себе на паблік борді, тому прикріпила просто скрін підтвердження того, то сабмітила файли."
      ],
      "metadata": {
        "id": "8_9hWx0pyN2y"
      }
    },
    {
      "cell_type": "markdown",
      "source": [
        "![Screenshot 2025-09-13 at 11.33.37 PM.png](data:image/png;base64,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)"
      ],
      "metadata": {
        "id": "wZMUlb0gx37I"
      }
    },
    {
      "cell_type": "code",
      "source": [],
      "metadata": {
        "id": "kR2yVXiByMHo"
      },
      "execution_count": null,
      "outputs": []
    }
  ]
}